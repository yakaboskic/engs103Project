{
 "cells": [
  {
   "cell_type": "code",
   "execution_count": 299,
   "metadata": {},
   "outputs": [],
   "source": [
    "import sys\n",
    "import os \n",
    "import numpy as np\n",
    "import pandas as pd\n",
    "import seaborn as sb\n",
    "import random\n",
    "import itertools\n",
    "import math\n",
    "import copy\n",
    "import matplotlib.pyplot as plt"
   ]
  },
  {
   "cell_type": "code",
   "execution_count": 71,
   "metadata": {},
   "outputs": [
    {
     "data": {
      "text/html": [
       "<div>\n",
       "<style scoped>\n",
       "    .dataframe tbody tr th:only-of-type {\n",
       "        vertical-align: middle;\n",
       "    }\n",
       "\n",
       "    .dataframe tbody tr th {\n",
       "        vertical-align: top;\n",
       "    }\n",
       "\n",
       "    .dataframe thead th {\n",
       "        text-align: right;\n",
       "    }\n",
       "</style>\n",
       "<table border=\"1\" class=\"dataframe\">\n",
       "  <thead>\n",
       "    <tr style=\"text-align: right;\">\n",
       "      <th></th>\n",
       "      <th>LO Street1</th>\n",
       "      <th>LO City</th>\n",
       "      <th>LO State</th>\n",
       "      <th>LO Zip</th>\n",
       "    </tr>\n",
       "  </thead>\n",
       "  <tbody>\n",
       "    <tr>\n",
       "      <th>0</th>\n",
       "      <td>705 Canaan St.</td>\n",
       "      <td>Canaan</td>\n",
       "      <td>NH</td>\n",
       "      <td>03741</td>\n",
       "    </tr>\n",
       "    <tr>\n",
       "      <th>1</th>\n",
       "      <td>392 Jones Hill Road</td>\n",
       "      <td>Canaan</td>\n",
       "      <td>NH</td>\n",
       "      <td>03741</td>\n",
       "    </tr>\n",
       "    <tr>\n",
       "      <th>2</th>\n",
       "      <td>9 Roberts Rd. #202</td>\n",
       "      <td>Canaan</td>\n",
       "      <td>NH</td>\n",
       "      <td>03741</td>\n",
       "    </tr>\n",
       "    <tr>\n",
       "      <th>3</th>\n",
       "      <td>161 Smith Pond Road</td>\n",
       "      <td>Enfield</td>\n",
       "      <td>NH</td>\n",
       "      <td>03748</td>\n",
       "    </tr>\n",
       "    <tr>\n",
       "      <th>4</th>\n",
       "      <td>153 Shaker Hill Road #1</td>\n",
       "      <td>Enfield</td>\n",
       "      <td>NH</td>\n",
       "      <td>03748</td>\n",
       "    </tr>\n",
       "  </tbody>\n",
       "</table>\n",
       "</div>"
      ],
      "text/plain": [
       "                LO Street1  LO City LO State LO Zip\n",
       "0           705 Canaan St.   Canaan       NH  03741\n",
       "1      392 Jones Hill Road   Canaan       NH  03741\n",
       "2       9 Roberts Rd. #202   Canaan       NH  03741\n",
       "3      161 Smith Pond Road  Enfield       NH  03748\n",
       "4  153 Shaker Hill Road #1  Enfield       NH  03748"
      ]
     },
     "execution_count": 71,
     "metadata": {},
     "output_type": "execute_result"
    }
   ],
   "source": [
    "df_data = pd.read_csv('/home/yakaboskic/courses/engs103Project/data/dart-grad-data-clean.csv')\n",
    "df_data = df_data.dropna()\n",
    "df_data.head()"
   ]
  },
  {
   "cell_type": "code",
   "execution_count": 72,
   "metadata": {},
   "outputs": [],
   "source": [
    "df_data['LO City'].unique()\n",
    "sachem_roads = ['Sachem', 'Drake', 'Gould', 'Haddock', 'Ralston']"
   ]
  },
  {
   "cell_type": "code",
   "execution_count": 73,
   "metadata": {},
   "outputs": [],
   "source": [
    "city = df_data['LO City']\n",
    "street = df_data['LO Street1']\n",
    "h1 = ~city.str.contains('HANOVER')\n",
    "h2 = ~city.str.contains('hanover')\n",
    "h3 = ~city.str.contains('Hanvoer')\n",
    "leb1 = ~city.str.contains('LEBANON')\n",
    "wleb1 = ~city.str.contains('West Labanon')\n",
    "wleb2 = ~city.str.contains('West Leb')\n",
    "wleb3 = ~city.str.contains('WEST LEBANNON')\n",
    "wleb4 = ~city.str.contains('West lebanon')\n",
    "wleb5 = ~city.str.contains('west lebanon')\n",
    "wrj1 = ~city.str.contains('White River Jct')\n",
    "wrj2 = ~city.str.contains('white river junction')\n",
    "sachem = ~street.str.contains('|'.join(sachem_roads))"
   ]
  },
  {
   "cell_type": "code",
   "execution_count": 74,
   "metadata": {},
   "outputs": [],
   "source": [
    "df_data['LO City'] = df_data['LO City'].where(h1, 'Hanover')\n",
    "df_data['LO City'] = df_data['LO City'].where(h2, 'Hanover')\n",
    "df_data['LO City'] = df_data['LO City'].where(h3, 'Hanover')\n",
    "df_data['LO City'] = df_data['LO City'].where(leb1, 'Lebanon')\n",
    "df_data['LO City'] = df_data['LO City'].where(wleb1, 'West Lebanon')\n",
    "df_data['LO City'] = df_data['LO City'].where(wleb2, 'West Lebanon')\n",
    "df_data['LO City'] = df_data['LO City'].where(wleb3, 'West Lebanon')\n",
    "df_data['LO City'] = df_data['LO City'].where(wleb4, 'West Lebanon')\n",
    "df_data['LO City'] = df_data['LO City'].where(wleb5, 'West Lebanon')\n",
    "df_data['LO City'] = df_data['LO City'].where(wrj1, 'White River Junction')\n",
    "df_data['LO City'] = df_data['LO City'].where(wrj2, 'White River Junction')\n",
    "df_data['LO City'] = df_data['LO City'].where(sachem, 'Sachem')"
   ]
  },
  {
   "cell_type": "code",
   "execution_count": 75,
   "metadata": {},
   "outputs": [
    {
     "data": {
      "text/plain": [
       "array(['Canaan', 'Enfield', 'Etna', 'Hanover', 'Sachem', 'Hartford',\n",
       "       'Hartland', 'Hoboken', 'Lebanon', 'Lyme', 'Norwich',\n",
       "       'West Lebanon', 'White River Junction'], dtype=object)"
      ]
     },
     "execution_count": 75,
     "metadata": {},
     "output_type": "execute_result"
    }
   ],
   "source": [
    "df_data['LO City'].unique()"
   ]
  },
  {
   "cell_type": "code",
   "execution_count": 82,
   "metadata": {},
   "outputs": [],
   "source": [
    "stops = ['Enfield', 'Sachem', 'Lebanon', 'Norwich', 'West Lebanon', 'White River Junction']"
   ]
  },
  {
   "cell_type": "code",
   "execution_count": 149,
   "metadata": {},
   "outputs": [],
   "source": [
    "df_stopOnly = df_data[df_data['LO City'].isin(stops)]"
   ]
  },
  {
   "cell_type": "code",
   "execution_count": 330,
   "metadata": {},
   "outputs": [
    {
     "data": {
      "text/plain": [
       "<matplotlib.axes._subplots.AxesSubplot at 0x7fa1ab59a208>"
      ]
     },
     "execution_count": 330,
     "metadata": {},
     "output_type": "execute_result"
    },
    {
     "data": {
      "image/png": "[encoded data removed]",
      "text/plain": [
       "<Figure size 432x288 with 1 Axes>"
      ]
     },
     "metadata": {
      "needs_background": "light"
     },
     "output_type": "display_data"
    }
   ],
   "source": [
    "sb.countplot(x='LO City', data=df_stopOnly)"
   ]
  },
  {
   "cell_type": "code",
   "execution_count": 328,
   "metadata": {},
   "outputs": [
    {
     "name": "stdout",
     "output_type": "stream",
     "text": [
      "Lebanon                 98\n",
      "Sachem                  72\n",
      "West Lebanon            42\n",
      "White River Junction    36\n",
      "Norwich                 26\n",
      "Enfield                 13\n",
      "Name: LO City, dtype: int64\n",
      "Lebanon                 0.341463\n",
      "Sachem                  0.250871\n",
      "West Lebanon            0.146341\n",
      "White River Junction    0.125436\n",
      "Norwich                 0.090592\n",
      "Enfield                 0.045296\n",
      "Name: LO City, dtype: float64\n"
     ]
    }
   ],
   "source": [
    "total = df_stopOnly['LO City'].count()\n",
    "stats = df_stopOnly['LO City'].value_counts()/total\n",
    "print(df_stopOnly['LO City'].value_counts())\n",
    "print(stats)"
   ]
  },
  {
   "cell_type": "code",
   "execution_count": 97,
   "metadata": {},
   "outputs": [],
   "source": [
    "def city_rand():\n",
    "    rand = random.random()\n",
    "    start = 0\n",
    "    end = stats.Lebanon\n",
    "    if rand <= end:\n",
    "        return 'Lebanon'\n",
    "    start = end\n",
    "    end = start + stats.Sachem\n",
    "    if rand > start and rand <= end:\n",
    "        return 'Sachem'\n",
    "    start = end\n",
    "    end = start + stats['West Lebanon']\n",
    "    if rand > start and rand <= end:\n",
    "        return 'West Lebanon'\n",
    "    start = end\n",
    "    end = start + stats['White River Junction']\n",
    "    if rand > start and rand <= end:\n",
    "        return 'White River Junction'\n",
    "    start = end\n",
    "    end = start + stats.Norwich\n",
    "    if rand > start and rand <= end:\n",
    "        return 'Norwich'\n",
    "    start = end\n",
    "    end = start + stats['Enfield']\n",
    "    if rand > start and rand <= end:\n",
    "        return 'Enfield'\n",
    "    else:\n",
    "        return 'Issue'"
   ]
  },
  {
   "cell_type": "code",
   "execution_count": 161,
   "metadata": {},
   "outputs": [
    {
     "data": {
      "text/html": [
       "<div>\n",
       "<style scoped>\n",
       "    .dataframe tbody tr th:only-of-type {\n",
       "        vertical-align: middle;\n",
       "    }\n",
       "\n",
       "    .dataframe tbody tr th {\n",
       "        vertical-align: top;\n",
       "    }\n",
       "\n",
       "    .dataframe thead th {\n",
       "        text-align: right;\n",
       "    }\n",
       "</style>\n",
       "<table border=\"1\" class=\"dataframe\">\n",
       "  <thead>\n",
       "    <tr style=\"text-align: right;\">\n",
       "      <th></th>\n",
       "      <th>Hanover</th>\n",
       "      <th>Lebanon</th>\n",
       "      <th>West Lebanon</th>\n",
       "      <th>Norwich</th>\n",
       "      <th>White River Junction</th>\n",
       "      <th>Wilder</th>\n",
       "      <th>Sachem</th>\n",
       "      <th>Enfield</th>\n",
       "    </tr>\n",
       "    <tr>\n",
       "      <th>Unnamed: 0</th>\n",
       "      <th></th>\n",
       "      <th></th>\n",
       "      <th></th>\n",
       "      <th></th>\n",
       "      <th></th>\n",
       "      <th></th>\n",
       "      <th></th>\n",
       "      <th></th>\n",
       "    </tr>\n",
       "  </thead>\n",
       "  <tbody>\n",
       "    <tr>\n",
       "      <th>Hanover</th>\n",
       "      <td>0.0</td>\n",
       "      <td>5.7</td>\n",
       "      <td>4.3</td>\n",
       "      <td>1.6</td>\n",
       "      <td>4.5</td>\n",
       "      <td>4.0</td>\n",
       "      <td>1.6</td>\n",
       "      <td>10.8</td>\n",
       "    </tr>\n",
       "    <tr>\n",
       "      <th>Lebanon</th>\n",
       "      <td>5.7</td>\n",
       "      <td>0.0</td>\n",
       "      <td>3.6</td>\n",
       "      <td>7.5</td>\n",
       "      <td>4.5</td>\n",
       "      <td>5.9</td>\n",
       "      <td>7.0</td>\n",
       "      <td>6.7</td>\n",
       "    </tr>\n",
       "    <tr>\n",
       "      <th>West Lebanon</th>\n",
       "      <td>4.3</td>\n",
       "      <td>3.6</td>\n",
       "      <td>0.0</td>\n",
       "      <td>5.6</td>\n",
       "      <td>1.0</td>\n",
       "      <td>2.4</td>\n",
       "      <td>3.6</td>\n",
       "      <td>10.7</td>\n",
       "    </tr>\n",
       "    <tr>\n",
       "      <th>Norwich</th>\n",
       "      <td>1.6</td>\n",
       "      <td>7.5</td>\n",
       "      <td>5.6</td>\n",
       "      <td>0.0</td>\n",
       "      <td>5.2</td>\n",
       "      <td>3.5</td>\n",
       "      <td>3.2</td>\n",
       "      <td>12.8</td>\n",
       "    </tr>\n",
       "    <tr>\n",
       "      <th>White River Junction</th>\n",
       "      <td>4.5</td>\n",
       "      <td>4.5</td>\n",
       "      <td>1.0</td>\n",
       "      <td>5.2</td>\n",
       "      <td>0.0</td>\n",
       "      <td>1.9</td>\n",
       "      <td>3.8</td>\n",
       "      <td>11.5</td>\n",
       "    </tr>\n",
       "    <tr>\n",
       "      <th>Wilder</th>\n",
       "      <td>4.0</td>\n",
       "      <td>5.9</td>\n",
       "      <td>2.4</td>\n",
       "      <td>3.5</td>\n",
       "      <td>1.9</td>\n",
       "      <td>0.0</td>\n",
       "      <td>5.2</td>\n",
       "      <td>15.2</td>\n",
       "    </tr>\n",
       "    <tr>\n",
       "      <th>Sachem</th>\n",
       "      <td>1.6</td>\n",
       "      <td>7.0</td>\n",
       "      <td>3.6</td>\n",
       "      <td>3.2</td>\n",
       "      <td>3.8</td>\n",
       "      <td>5.2</td>\n",
       "      <td>0.0</td>\n",
       "      <td>12.3</td>\n",
       "    </tr>\n",
       "    <tr>\n",
       "      <th>Enfield</th>\n",
       "      <td>10.8</td>\n",
       "      <td>6.7</td>\n",
       "      <td>10.7</td>\n",
       "      <td>12.8</td>\n",
       "      <td>11.5</td>\n",
       "      <td>15.2</td>\n",
       "      <td>12.3</td>\n",
       "      <td>0.0</td>\n",
       "    </tr>\n",
       "  </tbody>\n",
       "</table>\n",
       "</div>"
      ],
      "text/plain": [
       "                      Hanover  Lebanon  West Lebanon  Norwich  \\\n",
       "Unnamed: 0                                                      \n",
       "Hanover                   0.0      5.7           4.3      1.6   \n",
       "Lebanon                   5.7      0.0           3.6      7.5   \n",
       "West Lebanon              4.3      3.6           0.0      5.6   \n",
       "Norwich                   1.6      7.5           5.6      0.0   \n",
       "White River Junction      4.5      4.5           1.0      5.2   \n",
       "Wilder                    4.0      5.9           2.4      3.5   \n",
       "Sachem                    1.6      7.0           3.6      3.2   \n",
       "Enfield                  10.8      6.7          10.7     12.8   \n",
       "\n",
       "                      White River Junction  Wilder  Sachem  Enfield  \n",
       "Unnamed: 0                                                           \n",
       "Hanover                                4.5     4.0     1.6     10.8  \n",
       "Lebanon                                4.5     5.9     7.0      6.7  \n",
       "West Lebanon                           1.0     2.4     3.6     10.7  \n",
       "Norwich                                5.2     3.5     3.2     12.8  \n",
       "White River Junction                   0.0     1.9     3.8     11.5  \n",
       "Wilder                                 1.9     0.0     5.2     15.2  \n",
       "Sachem                                 3.8     5.2     0.0     12.3  \n",
       "Enfield                               11.5    15.2    12.3      0.0  "
      ]
     },
     "execution_count": 161,
     "metadata": {},
     "output_type": "execute_result"
    }
   ],
   "source": [
    "df_dist = pd.read_csv('/home/yakaboskic/courses/engs103Project/data/UpperValleyDists.csv')\n",
    "df_dist = df_dist.set_index('Unnamed: 0')\n",
    "df_dist = df_dist.fillna(0)\n",
    "df_dist"
   ]
  },
  {
   "cell_type": "code",
   "execution_count": 162,
   "metadata": {},
   "outputs": [],
   "source": [
    "def get_tsp_trip(stops):\n",
    "    start = 'Hanover'\n",
    "    end = 'Hanover'\n",
    "    distance_results = []\n",
    "    stops = set(stops)\n",
    "    for perm in itertools.permutations(stops, r=len(stops)):\n",
    "        tour = list(perm)\n",
    "        tour.insert(0, 'Hanover')\n",
    "        tour.append('Hanover')\n",
    "        distance = 0\n",
    "        start = 'Hanover'\n",
    "        for stop in tour:\n",
    "            distance = distance + df_dist.loc[start, stop]\n",
    "            start = stop\n",
    "        distance_results.append([distance, tour])\n",
    "    return sorted(distance_results)[0]"
   ]
  },
  {
   "cell_type": "code",
   "execution_count": 163,
   "metadata": {},
   "outputs": [
    {
     "data": {
      "text/plain": [
       "[29.1, ['Hanover', 'Enfield', 'White River Junction', 'Norwich', 'Hanover']]"
      ]
     },
     "execution_count": 163,
     "metadata": {},
     "output_type": "execute_result"
    }
   ],
   "source": [
    "get_tsp_trip(['White River Junction', 'Norwich',  'Enfield'])"
   ]
  },
  {
   "cell_type": "code",
   "execution_count": 288,
   "metadata": {},
   "outputs": [],
   "source": [
    "AVG_MILES_HR = 20\n",
    "AVG_ARRIVALS_HR = 4\n",
    "AVG_STOP_TIME = 1\n",
    "MPG = 15\n",
    "GAS_PRICE_GALLON = 3\n",
    "DEPRECIATION = 30000/100000\n",
    "COST_PER_MILE = GAS_PRICE_GALLON/MPG + DEPRECIATION\n",
    "\n",
    "def simulation(runs=100):\n",
    "    results = []\n",
    "    for run in range(runs):\n",
    "        I = 0\n",
    "        N = 0\n",
    "        t = 0\n",
    "        t_l = 240\n",
    "        t_ss = 999\n",
    "        t_sf = 999\n",
    "        t_nc = np.random.exponential((1/AVG_ARRIVALS_HR)*60)\n",
    "        j = 0\n",
    "        Q = []\n",
    "        cost = 0\n",
    "        wait_times = []\n",
    "        while t < t_l:\n",
    "            t = min(t_l, t_ss, t_sf, t_nc)\n",
    "            #print(t)\n",
    "            if t == t_nc:\n",
    "                j = j + 1\n",
    "                t_j = copy.deepcopy(t)\n",
    "                #print('New customer in line at time:', t_j)\n",
    "                tour = get_tsp_trip([city_rand() for i in range(0, random.randint(1,4))])\n",
    "                #print(tour)\n",
    "                Q.append((t_j, tour))\n",
    "                if N == 0:\n",
    "                    t_ss = t\n",
    "                else:\n",
    "                    I = I + 1\n",
    "                t_nc = t + np.random.exponential((1/AVG_ARRIVALS_HR)*60)\n",
    "                #print('Next Group arriving at:', t_nc)\n",
    "                continue\n",
    "            elif t == t_ss:\n",
    "                q = Q.pop(0)\n",
    "                #print('Servicing Customer that came at:', q[0])\n",
    "                cost += q[1][0]*COST_PER_MILE\n",
    "                wait_times.append(t - q[0])\n",
    "                N = 1\n",
    "                I = max(0, I - 1)\n",
    "                t_sf = t + (q[1][0]/AVG_MILES_HR)*60 + AVG_STOP_TIME\n",
    "                #print('Back in Hanover at:', t_sf)\n",
    "                t_ss = 999\n",
    "                continue\n",
    "            elif t == t_sf:\n",
    "                #print('Back in Hanover')\n",
    "                if I > 0:\n",
    "                    t_ss = t\n",
    "                    #print('Start of Next Service:', t_ss)\n",
    "                N = 0 \n",
    "                t_sf = 999\n",
    "            else:\n",
    "                break\n",
    "        results.append([cost, wait_times])\n",
    "    return results"
   ]
  },
  {
   "cell_type": "code",
   "execution_count": 289,
   "metadata": {},
   "outputs": [],
   "source": [
    "results = simulation(10000)"
   ]
  },
  {
   "cell_type": "code",
   "execution_count": 334,
   "metadata": {},
   "outputs": [
    {
     "name": "stderr",
     "output_type": "stream",
     "text": [
      "/home/yakaboskic/.local/lib/python3.6/site-packages/numpy/lib/function_base.py:356: RuntimeWarning: Mean of empty slice.\n",
      "  avg = a.mean(axis)\n",
      "/home/yakaboskic/.local/lib/python3.6/site-packages/numpy/core/_methods.py:85: RuntimeWarning: invalid value encountered in double_scalars\n",
      "  ret = ret.dtype.type(ret / rcount)\n"
     ]
    }
   ],
   "source": [
    "lambdas = range(1, 35, 1)\n",
    "r = []\n",
    "for lamb in lambdas:\n",
    "    lamb = lamb/2\n",
    "    AVG_ARRIVALS_HR = lamb\n",
    "    results = simulation(100)\n",
    "    avg_cost = np.average([entry[0] for entry in results])\n",
    "    avg_waitTime = np.average([np.average(entry[1]) for entry in results])\n",
    "    avg_served = np.average([len(entry[1]) for entry in results])\n",
    "    r.append([lamb, avg_cost, avg_waitTime, avg_served*2, avg_cost*avg_served])    "
   ]
  },
  {
   "cell_type": "code",
   "execution_count": 335,
   "metadata": {},
   "outputs": [
    {
     "data": {
      "text/html": [
       "<div>\n",
       "<style scoped>\n",
       "    .dataframe tbody tr th:only-of-type {\n",
       "        vertical-align: middle;\n",
       "    }\n",
       "\n",
       "    .dataframe tbody tr th {\n",
       "        vertical-align: top;\n",
       "    }\n",
       "\n",
       "    .dataframe thead th {\n",
       "        text-align: right;\n",
       "    }\n",
       "</style>\n",
       "<table border=\"1\" class=\"dataframe\">\n",
       "  <thead>\n",
       "    <tr style=\"text-align: right;\">\n",
       "      <th></th>\n",
       "      <th>lambda (Groups per hour)</th>\n",
       "      <th>Average Cost Per Trip</th>\n",
       "      <th>Average Wait Time</th>\n",
       "      <th>Average Customers Served</th>\n",
       "      <th>Average Cost Per Night</th>\n",
       "    </tr>\n",
       "  </thead>\n",
       "  <tbody>\n",
       "    <tr>\n",
       "      <th>0</th>\n",
       "      <td>0.5</td>\n",
       "      <td>11.4970</td>\n",
       "      <td>0.000000</td>\n",
       "      <td>3.48</td>\n",
       "      <td>20.00478</td>\n",
       "    </tr>\n",
       "    <tr>\n",
       "      <th>1</th>\n",
       "      <td>1.0</td>\n",
       "      <td>22.8385</td>\n",
       "      <td>13.247390</td>\n",
       "      <td>7.08</td>\n",
       "      <td>80.84829</td>\n",
       "    </tr>\n",
       "    <tr>\n",
       "      <th>2</th>\n",
       "      <td>1.5</td>\n",
       "      <td>28.8180</td>\n",
       "      <td>21.970965</td>\n",
       "      <td>9.12</td>\n",
       "      <td>131.41008</td>\n",
       "    </tr>\n",
       "    <tr>\n",
       "      <th>3</th>\n",
       "      <td>2.0</td>\n",
       "      <td>34.0540</td>\n",
       "      <td>34.215062</td>\n",
       "      <td>10.32</td>\n",
       "      <td>175.71864</td>\n",
       "    </tr>\n",
       "    <tr>\n",
       "      <th>4</th>\n",
       "      <td>2.5</td>\n",
       "      <td>37.0280</td>\n",
       "      <td>45.983540</td>\n",
       "      <td>10.82</td>\n",
       "      <td>200.32148</td>\n",
       "    </tr>\n",
       "  </tbody>\n",
       "</table>\n",
       "</div>"
      ],
      "text/plain": [
       "   lambda (Groups per hour)  Average Cost Per Trip  Average Wait Time  \\\n",
       "0                       0.5                11.4970           0.000000   \n",
       "1                       1.0                22.8385          13.247390   \n",
       "2                       1.5                28.8180          21.970965   \n",
       "3                       2.0                34.0540          34.215062   \n",
       "4                       2.5                37.0280          45.983540   \n",
       "\n",
       "   Average Customers Served  Average Cost Per Night  \n",
       "0                      3.48                20.00478  \n",
       "1                      7.08                80.84829  \n",
       "2                      9.12               131.41008  \n",
       "3                     10.32               175.71864  \n",
       "4                     10.82               200.32148  "
      ]
     },
     "execution_count": 335,
     "metadata": {},
     "output_type": "execute_result"
    }
   ],
   "source": [
    "data = pd.DataFrame(r)\n",
    "data = data.fillna(0)\n",
    "data.columns = ['lambda (Groups per hour)', 'Average Cost Per Trip', \n",
    "                'Average Wait Time', 'Average Customers Served', 'Average Cost Per Night']\n",
    "data.head()"
   ]
  },
  {
   "cell_type": "code",
   "execution_count": 336,
   "metadata": {},
   "outputs": [
    {
     "data": {
      "text/plain": [
       "<matplotlib.axes._subplots.AxesSubplot at 0x7fa1ab3743c8>"
      ]
     },
     "execution_count": 336,
     "metadata": {},
     "output_type": "execute_result"
    },
    {
     "data": {
      "image/png": "[encoded data removed]",
      "text/plain": [
       "<Figure size 432x288 with 1 Axes>"
      ]
     },
     "metadata": {
      "needs_background": "light"
     },
     "output_type": "display_data"
    }
   ],
   "source": [
    "data.plot(x=0, y=1, kind='line', title='Lambda vs. Cost per trip ($)')"
   ]
  },
  {
   "cell_type": "code",
   "execution_count": 337,
   "metadata": {},
   "outputs": [
    {
     "data": {
      "text/plain": [
       "<matplotlib.axes._subplots.AxesSubplot at 0x7fa1ab25c358>"
      ]
     },
     "execution_count": 337,
     "metadata": {},
     "output_type": "execute_result"
    },
    {
     "data": {
      "image/png": "[encoded data removed]",
      "text/plain": [
       "<Figure size 432x288 with 1 Axes>"
      ]
     },
     "metadata": {
      "needs_background": "light"
     },
     "output_type": "display_data"
    }
   ],
   "source": [
    "data.plot(x=0, y=2, kind='line', title='Lambda vs. Wait Time (min)')"
   ]
  },
  {
   "cell_type": "code",
   "execution_count": 338,
   "metadata": {},
   "outputs": [
    {
     "data": {
      "text/plain": [
       "<matplotlib.axes._subplots.AxesSubplot at 0x7fa1ab23def0>"
      ]
     },
     "execution_count": 338,
     "metadata": {},
     "output_type": "execute_result"
    },
    {
     "data": {
      "image/png": "[encoded data removed]",
      "text/plain": [
       "<Figure size 432x288 with 1 Axes>"
      ]
     },
     "metadata": {
      "needs_background": "light"
     },
     "output_type": "display_data"
    }
   ],
   "source": [
    "data.plot(x=0, y=3, kind='line', title='Lambda vs. Number Customers Served')"
   ]
  },
  {
   "cell_type": "code",
   "execution_count": 352,
   "metadata": {},
   "outputs": [
    {
     "data": {
      "text/plain": [
       "<matplotlib.axes._subplots.AxesSubplot at 0x7fa1ab73b470>"
      ]
     },
     "execution_count": 352,
     "metadata": {},
     "output_type": "execute_result"
    },
    {
     "data": {
      "image/png": "[encoded data removed]",
      "text/plain": [
       "<Figure size 432x288 with 1 Axes>"
      ]
     },
     "metadata": {
      "needs_background": "light"
     },
     "output_type": "display_data"
    }
   ],
   "source": [
    "van_cost = 30000\n",
    "hours_per_day = 4\n",
    "days = 2*52\n",
    "total_hours = hours_per_day*days\n",
    "salary = 10\n",
    "total_salary = salary*total_hours\n",
    "data_yearly = data.iloc[:,[0,-1]]\n",
    "data_yearly.iloc[:,1] = data_yearly.iloc[:,1]*days + total_salary + van_cost\n",
    "data_yearly.plot(x=0, y=1, kind='line', title='Cost of First Year vs. lambda')"
   ]
  }
 ],
 "metadata": {
  "kernelspec": {
   "display_name": "Python 3.6",
   "language": "python",
   "name": "python3.6"
  },
  "language_info": {
   "codemirror_mode": {
    "name": "ipython",
    "version": 3
   },
   "file_extension": ".py",
   "mimetype": "text/x-python",
   "name": "python",
   "nbconvert_exporter": "python",
   "pygments_lexer": "ipython3",
   "version": "3.6.7"
  }
 },
 "nbformat": 4,
 "nbformat_minor": 2
}
