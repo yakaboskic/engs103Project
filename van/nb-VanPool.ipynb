{
 "cells": [
  {
   "cell_type": "code",
   "execution_count": 1,
   "metadata": {},
   "outputs": [],
   "source": [
    "import sys\n",
    "import os \n",
    "import numpy as np\n",
    "import pandas as pd\n",
    "import seaborn as sb\n",
    "import random\n",
    "import itertools\n",
    "import math\n",
    "import copy\n",
    "import matplotlib.pyplot as plt"
   ]
  },
  {
   "cell_type": "code",
   "execution_count": 2,
   "metadata": {},
   "outputs": [
    {
     "data": {
      "text/html": [
       "<div>\n",
       "<style scoped>\n",
       "    .dataframe tbody tr th:only-of-type {\n",
       "        vertical-align: middle;\n",
       "    }\n",
       "\n",
       "    .dataframe tbody tr th {\n",
       "        vertical-align: top;\n",
       "    }\n",
       "\n",
       "    .dataframe thead th {\n",
       "        text-align: right;\n",
       "    }\n",
       "</style>\n",
       "<table border=\"1\" class=\"dataframe\">\n",
       "  <thead>\n",
       "    <tr style=\"text-align: right;\">\n",
       "      <th></th>\n",
       "      <th>LO Street1</th>\n",
       "      <th>LO City</th>\n",
       "      <th>LO State</th>\n",
       "      <th>LO Zip</th>\n",
       "    </tr>\n",
       "  </thead>\n",
       "  <tbody>\n",
       "    <tr>\n",
       "      <th>0</th>\n",
       "      <td>705 Canaan St.</td>\n",
       "      <td>Canaan</td>\n",
       "      <td>NH</td>\n",
       "      <td>03741</td>\n",
       "    </tr>\n",
       "    <tr>\n",
       "      <th>1</th>\n",
       "      <td>392 Jones Hill Road</td>\n",
       "      <td>Canaan</td>\n",
       "      <td>NH</td>\n",
       "      <td>03741</td>\n",
       "    </tr>\n",
       "    <tr>\n",
       "      <th>2</th>\n",
       "      <td>9 Roberts Rd. #202</td>\n",
       "      <td>Canaan</td>\n",
       "      <td>NH</td>\n",
       "      <td>03741</td>\n",
       "    </tr>\n",
       "    <tr>\n",
       "      <th>3</th>\n",
       "      <td>161 Smith Pond Road</td>\n",
       "      <td>Enfield</td>\n",
       "      <td>NH</td>\n",
       "      <td>03748</td>\n",
       "    </tr>\n",
       "    <tr>\n",
       "      <th>4</th>\n",
       "      <td>153 Shaker Hill Road #1</td>\n",
       "      <td>Enfield</td>\n",
       "      <td>NH</td>\n",
       "      <td>03748</td>\n",
       "    </tr>\n",
       "  </tbody>\n",
       "</table>\n",
       "</div>"
      ],
      "text/plain": [
       "                LO Street1  LO City LO State LO Zip\n",
       "0           705 Canaan St.   Canaan       NH  03741\n",
       "1      392 Jones Hill Road   Canaan       NH  03741\n",
       "2       9 Roberts Rd. #202   Canaan       NH  03741\n",
       "3      161 Smith Pond Road  Enfield       NH  03748\n",
       "4  153 Shaker Hill Road #1  Enfield       NH  03748"
      ]
     },
     "execution_count": 2,
     "metadata": {},
     "output_type": "execute_result"
    }
   ],
   "source": [
    "df_data = pd.read_csv('/home/yakaboskic/courses/engs103Project/data/dart-grad-data-clean.csv')\n",
    "df_data = df_data.dropna()\n",
    "df_data.head()"
   ]
  },
  {
   "cell_type": "code",
   "execution_count": 3,
   "metadata": {},
   "outputs": [],
   "source": [
    "df_data['LO City'].unique()\n",
    "sachem_roads = ['Sachem', 'Drake', 'Gould', 'Haddock', 'Ralston']"
   ]
  },
  {
   "cell_type": "code",
   "execution_count": 4,
   "metadata": {},
   "outputs": [],
   "source": [
    "city = df_data['LO City']\n",
    "street = df_data['LO Street1']\n",
    "h1 = ~city.str.contains('HANOVER')\n",
    "h2 = ~city.str.contains('hanover')\n",
    "h3 = ~city.str.contains('Hanvoer')\n",
    "leb1 = ~city.str.contains('LEBANON')\n",
    "wleb1 = ~city.str.contains('West Labanon')\n",
    "wleb2 = ~city.str.contains('West Leb')\n",
    "wleb3 = ~city.str.contains('WEST LEBANNON')\n",
    "wleb4 = ~city.str.contains('West lebanon')\n",
    "wleb5 = ~city.str.contains('west lebanon')\n",
    "wrj1 = ~city.str.contains('White River Jct')\n",
    "wrj2 = ~city.str.contains('white river junction')\n",
    "sachem = ~street.str.contains('|'.join(sachem_roads))"
   ]
  },
  {
   "cell_type": "code",
   "execution_count": 5,
   "metadata": {},
   "outputs": [],
   "source": [
    "df_data['LO City'] = df_data['LO City'].where(h1, 'Hanover')\n",
    "df_data['LO City'] = df_data['LO City'].where(h2, 'Hanover')\n",
    "df_data['LO City'] = df_data['LO City'].where(h3, 'Hanover')\n",
    "df_data['LO City'] = df_data['LO City'].where(leb1, 'Lebanon')\n",
    "df_data['LO City'] = df_data['LO City'].where(wleb1, 'West Lebanon')\n",
    "df_data['LO City'] = df_data['LO City'].where(wleb2, 'West Lebanon')\n",
    "df_data['LO City'] = df_data['LO City'].where(wleb3, 'West Lebanon')\n",
    "df_data['LO City'] = df_data['LO City'].where(wleb4, 'West Lebanon')\n",
    "df_data['LO City'] = df_data['LO City'].where(wleb5, 'West Lebanon')\n",
    "df_data['LO City'] = df_data['LO City'].where(wrj1, 'White River Junction')\n",
    "df_data['LO City'] = df_data['LO City'].where(wrj2, 'White River Junction')\n",
    "df_data['LO City'] = df_data['LO City'].where(sachem, 'Sachem')"
   ]
  },
  {
   "cell_type": "code",
   "execution_count": 6,
   "metadata": {},
   "outputs": [
    {
     "data": {
      "text/plain": [
       "array(['Canaan', 'Enfield', 'Etna', 'Hanover', 'Sachem', 'Hartford',\n",
       "       'Hartland', 'Hoboken', 'Lebanon', 'Lyme', 'Norwich',\n",
       "       'West Lebanon', 'White River Junction'], dtype=object)"
      ]
     },
     "execution_count": 6,
     "metadata": {},
     "output_type": "execute_result"
    }
   ],
   "source": [
    "df_data['LO City'].unique()"
   ]
  },
  {
   "cell_type": "code",
   "execution_count": 7,
   "metadata": {},
   "outputs": [],
   "source": [
    "stops = ['Enfield', 'Sachem', 'Lebanon', 'Norwich', 'West Lebanon', 'White River Junction']"
   ]
  },
  {
   "cell_type": "code",
   "execution_count": 8,
   "metadata": {},
   "outputs": [],
   "source": [
    "df_stopOnly = df_data[df_data['LO City'].isin(stops)]"
   ]
  },
  {
   "cell_type": "code",
   "execution_count": 9,
   "metadata": {},
   "outputs": [
    {
     "data": {
      "text/plain": [
       "<matplotlib.axes._subplots.AxesSubplot at 0x7f187f945a90>"
      ]
     },
     "execution_count": 9,
     "metadata": {},
     "output_type": "execute_result"
    },
    {
     "data": {
      "image/png": "[encoded data removed]",
      "text/plain": [
       "<Figure size 432x288 with 1 Axes>"
      ]
     },
     "metadata": {
      "needs_background": "light"
     },
     "output_type": "display_data"
    }
   ],
   "source": [
    "sb.countplot(x='LO City', data=df_stopOnly)"
   ]
  },
  {
   "cell_type": "code",
   "execution_count": 10,
   "metadata": {},
   "outputs": [
    {
     "name": "stdout",
     "output_type": "stream",
     "text": [
      "Lebanon                 98\n",
      "Sachem                  72\n",
      "West Lebanon            42\n",
      "White River Junction    36\n",
      "Norwich                 26\n",
      "Enfield                 13\n",
      "Name: LO City, dtype: int64\n",
      "Lebanon                 0.341463\n",
      "Sachem                  0.250871\n",
      "West Lebanon            0.146341\n",
      "White River Junction    0.125436\n",
      "Norwich                 0.090592\n",
      "Enfield                 0.045296\n",
      "Name: LO City, dtype: float64\n"
     ]
    }
   ],
   "source": [
    "total = df_stopOnly['LO City'].count()\n",
    "stats = df_stopOnly['LO City'].value_counts()/total\n",
    "print(df_stopOnly['LO City'].value_counts())\n",
    "print(stats)"
   ]
  },
  {
   "cell_type": "code",
   "execution_count": 11,
   "metadata": {},
   "outputs": [],
   "source": [
    "def city_rand():\n",
    "    rand = random.random()\n",
    "    start = 0\n",
    "    end = stats.Lebanon\n",
    "    if rand <= end:\n",
    "        return 'Lebanon'\n",
    "    start = end\n",
    "    end = start + stats.Sachem\n",
    "    if rand > start and rand <= end:\n",
    "        return 'Sachem'\n",
    "    start = end\n",
    "    end = start + stats['West Lebanon']\n",
    "    if rand > start and rand <= end:\n",
    "        return 'West Lebanon'\n",
    "    start = end\n",
    "    end = start + stats['White River Junction']\n",
    "    if rand > start and rand <= end:\n",
    "        return 'White River Junction'\n",
    "    start = end\n",
    "    end = start + stats.Norwich\n",
    "    if rand > start and rand <= end:\n",
    "        return 'Norwich'\n",
    "    start = end\n",
    "    end = start + stats['Enfield']\n",
    "    if rand > start and rand <= end:\n",
    "        return 'Enfield'\n",
    "    else:\n",
    "        return 'Issue'"
   ]
  },
  {
   "cell_type": "code",
   "execution_count": 12,
   "metadata": {},
   "outputs": [
    {
     "data": {
      "text/html": [
       "<div>\n",
       "<style scoped>\n",
       "    .dataframe tbody tr th:only-of-type {\n",
       "        vertical-align: middle;\n",
       "    }\n",
       "\n",
       "    .dataframe tbody tr th {\n",
       "        vertical-align: top;\n",
       "    }\n",
       "\n",
       "    .dataframe thead th {\n",
       "        text-align: right;\n",
       "    }\n",
       "</style>\n",
       "<table border=\"1\" class=\"dataframe\">\n",
       "  <thead>\n",
       "    <tr style=\"text-align: right;\">\n",
       "      <th></th>\n",
       "      <th>Hanover</th>\n",
       "      <th>Lebanon</th>\n",
       "      <th>West Lebanon</th>\n",
       "      <th>Norwich</th>\n",
       "      <th>White River Junction</th>\n",
       "      <th>Wilder</th>\n",
       "      <th>Sachem</th>\n",
       "      <th>Enfield</th>\n",
       "    </tr>\n",
       "    <tr>\n",
       "      <th>Unnamed: 0</th>\n",
       "      <th></th>\n",
       "      <th></th>\n",
       "      <th></th>\n",
       "      <th></th>\n",
       "      <th></th>\n",
       "      <th></th>\n",
       "      <th></th>\n",
       "      <th></th>\n",
       "    </tr>\n",
       "  </thead>\n",
       "  <tbody>\n",
       "    <tr>\n",
       "      <th>Hanover</th>\n",
       "      <td>0.0</td>\n",
       "      <td>5.7</td>\n",
       "      <td>4.3</td>\n",
       "      <td>1.6</td>\n",
       "      <td>4.5</td>\n",
       "      <td>4.0</td>\n",
       "      <td>1.6</td>\n",
       "      <td>10.8</td>\n",
       "    </tr>\n",
       "    <tr>\n",
       "      <th>Lebanon</th>\n",
       "      <td>5.7</td>\n",
       "      <td>0.0</td>\n",
       "      <td>3.6</td>\n",
       "      <td>7.5</td>\n",
       "      <td>4.5</td>\n",
       "      <td>5.9</td>\n",
       "      <td>7.0</td>\n",
       "      <td>6.7</td>\n",
       "    </tr>\n",
       "    <tr>\n",
       "      <th>West Lebanon</th>\n",
       "      <td>4.3</td>\n",
       "      <td>3.6</td>\n",
       "      <td>0.0</td>\n",
       "      <td>5.6</td>\n",
       "      <td>1.0</td>\n",
       "      <td>2.4</td>\n",
       "      <td>3.6</td>\n",
       "      <td>10.7</td>\n",
       "    </tr>\n",
       "    <tr>\n",
       "      <th>Norwich</th>\n",
       "      <td>1.6</td>\n",
       "      <td>7.5</td>\n",
       "      <td>5.6</td>\n",
       "      <td>0.0</td>\n",
       "      <td>5.2</td>\n",
       "      <td>3.5</td>\n",
       "      <td>3.2</td>\n",
       "      <td>12.8</td>\n",
       "    </tr>\n",
       "    <tr>\n",
       "      <th>White River Junction</th>\n",
       "      <td>4.5</td>\n",
       "      <td>4.5</td>\n",
       "      <td>1.0</td>\n",
       "      <td>5.2</td>\n",
       "      <td>0.0</td>\n",
       "      <td>1.9</td>\n",
       "      <td>3.8</td>\n",
       "      <td>11.5</td>\n",
       "    </tr>\n",
       "    <tr>\n",
       "      <th>Wilder</th>\n",
       "      <td>4.0</td>\n",
       "      <td>5.9</td>\n",
       "      <td>2.4</td>\n",
       "      <td>3.5</td>\n",
       "      <td>1.9</td>\n",
       "      <td>0.0</td>\n",
       "      <td>5.2</td>\n",
       "      <td>15.2</td>\n",
       "    </tr>\n",
       "    <tr>\n",
       "      <th>Sachem</th>\n",
       "      <td>1.6</td>\n",
       "      <td>7.0</td>\n",
       "      <td>3.6</td>\n",
       "      <td>3.2</td>\n",
       "      <td>3.8</td>\n",
       "      <td>5.2</td>\n",
       "      <td>0.0</td>\n",
       "      <td>12.3</td>\n",
       "    </tr>\n",
       "    <tr>\n",
       "      <th>Enfield</th>\n",
       "      <td>10.8</td>\n",
       "      <td>6.7</td>\n",
       "      <td>10.7</td>\n",
       "      <td>12.8</td>\n",
       "      <td>11.5</td>\n",
       "      <td>15.2</td>\n",
       "      <td>12.3</td>\n",
       "      <td>0.0</td>\n",
       "    </tr>\n",
       "  </tbody>\n",
       "</table>\n",
       "</div>"
      ],
      "text/plain": [
       "                      Hanover  Lebanon  West Lebanon  Norwich  \\\n",
       "Unnamed: 0                                                      \n",
       "Hanover                   0.0      5.7           4.3      1.6   \n",
       "Lebanon                   5.7      0.0           3.6      7.5   \n",
       "West Lebanon              4.3      3.6           0.0      5.6   \n",
       "Norwich                   1.6      7.5           5.6      0.0   \n",
       "White River Junction      4.5      4.5           1.0      5.2   \n",
       "Wilder                    4.0      5.9           2.4      3.5   \n",
       "Sachem                    1.6      7.0           3.6      3.2   \n",
       "Enfield                  10.8      6.7          10.7     12.8   \n",
       "\n",
       "                      White River Junction  Wilder  Sachem  Enfield  \n",
       "Unnamed: 0                                                           \n",
       "Hanover                                4.5     4.0     1.6     10.8  \n",
       "Lebanon                                4.5     5.9     7.0      6.7  \n",
       "West Lebanon                           1.0     2.4     3.6     10.7  \n",
       "Norwich                                5.2     3.5     3.2     12.8  \n",
       "White River Junction                   0.0     1.9     3.8     11.5  \n",
       "Wilder                                 1.9     0.0     5.2     15.2  \n",
       "Sachem                                 3.8     5.2     0.0     12.3  \n",
       "Enfield                               11.5    15.2    12.3      0.0  "
      ]
     },
     "execution_count": 12,
     "metadata": {},
     "output_type": "execute_result"
    }
   ],
   "source": [
    "df_dist = pd.read_csv('/home/yakaboskic/courses/engs103Project/data/UpperValleyDists.csv')\n",
    "df_dist = df_dist.set_index('Unnamed: 0')\n",
    "df_dist = df_dist.fillna(0)\n",
    "df_dist"
   ]
  },
  {
   "cell_type": "code",
   "execution_count": 13,
   "metadata": {},
   "outputs": [],
   "source": [
    "def get_tsp_trip(stops):\n",
    "    start = 'Hanover'\n",
    "    end = 'Hanover'\n",
    "    distance_results = []\n",
    "    stops = set(stops)\n",
    "    for perm in itertools.permutations(stops, r=len(stops)):\n",
    "        tour = list(perm)\n",
    "        tour.insert(0, 'Hanover')\n",
    "        tour.append('Hanover')\n",
    "        distance = 0\n",
    "        start = 'Hanover'\n",
    "        for stop in tour:\n",
    "            distance = distance + df_dist.loc[start, stop]\n",
    "            start = stop\n",
    "        distance_results.append([distance, tour])\n",
    "    return sorted(distance_results)[0]"
   ]
  },
  {
   "cell_type": "code",
   "execution_count": 14,
   "metadata": {},
   "outputs": [
    {
     "data": {
      "text/plain": [
       "[29.1, ['Hanover', 'Enfield', 'White River Junction', 'Norwich', 'Hanover']]"
      ]
     },
     "execution_count": 14,
     "metadata": {},
     "output_type": "execute_result"
    }
   ],
   "source": [
    "get_tsp_trip(['White River Junction', 'Norwich',  'Enfield'])"
   ]
  },
  {
   "cell_type": "code",
   "execution_count": 15,
   "metadata": {},
   "outputs": [],
   "source": [
    "AVG_MILES_HR = 20\n",
    "AVG_ARRIVALS_HR = 4\n",
    "AVG_STOP_TIME = 1\n",
    "MPG = 15\n",
    "GAS_PRICE_GALLON = 3\n",
    "DEPRECIATION = 30000/100000\n",
    "COST_PER_MILE = GAS_PRICE_GALLON/MPG + DEPRECIATION\n",
    "\n",
    "def simulation(runs=100):\n",
    "    results = []\n",
    "    for run in range(runs):\n",
    "        I = 0\n",
    "        N = 0\n",
    "        t = 0\n",
    "        t_l = 240\n",
    "        t_ss = 999\n",
    "        t_sf = 999\n",
    "        t_nc = np.random.exponential((1/AVG_ARRIVALS_HR)*60)\n",
    "        j = 0\n",
    "        Q = []\n",
    "        cost = 0\n",
    "        wait_times = []\n",
    "        while t < t_l:\n",
    "            t = min(t_l, t_ss, t_sf, t_nc)\n",
    "            #print(t)\n",
    "            if t == t_nc:\n",
    "                j = j + 1\n",
    "                t_j = copy.deepcopy(t)\n",
    "                #print('New customer in line at time:', t_j)\n",
    "                tour = get_tsp_trip([city_rand() for i in range(0, random.randint(1,4))])\n",
    "                #print(tour)\n",
    "                Q.append((t_j, tour))\n",
    "                if N == 0:\n",
    "                    t_ss = t\n",
    "                else:\n",
    "                    I = I + 1\n",
    "                t_nc = t + np.random.exponential((1/AVG_ARRIVALS_HR)*60)\n",
    "                #print('Next Group arriving at:', t_nc)\n",
    "                continue\n",
    "            elif t == t_ss:\n",
    "                q = Q.pop(0)\n",
    "                #print('Servicing Customer that came at:', q[0])\n",
    "                cost += q[1][0]*COST_PER_MILE\n",
    "                wait_times.append(t - q[0])\n",
    "                N = 1\n",
    "                I = max(0, I - 1)\n",
    "                t_sf = t + (q[1][0]/AVG_MILES_HR)*60 + AVG_STOP_TIME\n",
    "                #print('Back in Hanover at:', t_sf)\n",
    "                t_ss = 999\n",
    "                continue\n",
    "            elif t == t_sf:\n",
    "                #print('Back in Hanover')\n",
    "                if I > 0:\n",
    "                    t_ss = t\n",
    "                    #print('Start of Next Service:', t_ss)\n",
    "                N = 0 \n",
    "                t_sf = 999\n",
    "            else:\n",
    "                break\n",
    "        results.append([cost, wait_times])\n",
    "    return results"
   ]
  },
  {
   "cell_type": "code",
   "execution_count": 16,
   "metadata": {},
   "outputs": [],
   "source": [
    "results = simulation(10000)"
   ]
  },
  {
   "cell_type": "code",
   "execution_count": 16,
   "metadata": {},
   "outputs": [
    {
     "data": {
      "text/plain": [
       "0.3"
      ]
     },
     "execution_count": 16,
     "metadata": {},
     "output_type": "execute_result"
    }
   ],
   "source": [
    "DEPRECIATION"
   ]
  },
  {
   "cell_type": "code",
   "execution_count": 17,
   "metadata": {},
   "outputs": [
    {
     "data": {
      "text/plain": [
       "array([0.5       , 0.82142857, 1.14285714, 1.46428571, 1.78571429,\n",
       "       2.10714286, 2.42857143, 2.75      , 3.07142857, 3.39285714,\n",
       "       3.71428571, 4.03571429, 4.35714286, 4.67857143, 5.        ])"
      ]
     },
     "execution_count": 17,
     "metadata": {},
     "output_type": "execute_result"
    }
   ],
   "source": [
    "lambas = np.linspace(.5, 5, 15)\n",
    "lambas"
   ]
  },
  {
   "cell_type": "code",
   "execution_count": 19,
   "metadata": {},
   "outputs": [
    {
     "name": "stdout",
     "output_type": "stream",
     "text": [
      "On simulation: 0\n",
      "On simulation: 1\n",
      "On simulation: 2\n",
      "On simulation: 3\n",
      "On simulation: 4\n",
      "On simulation: 5\n",
      "On simulation: 6\n",
      "On simulation: 7\n",
      "On simulation: 8\n",
      "On simulation: 9\n",
      "On simulation: 10\n",
      "On simulation: 11\n",
      "On simulation: 12\n",
      "On simulation: 13\n",
      "On simulation: 14\n",
      "On simulation: 15\n",
      "On simulation: 16\n",
      "On simulation: 17\n",
      "On simulation: 18\n",
      "On simulation: 19\n",
      "On simulation: 20\n",
      "On simulation: 21\n",
      "On simulation: 22\n",
      "On simulation: 23\n",
      "On simulation: 24\n",
      "On simulation: 25\n",
      "On simulation: 26\n",
      "On simulation: 27\n",
      "On simulation: 28\n",
      "On simulation: 29\n",
      "On simulation: 30\n",
      "On simulation: 31\n",
      "On simulation: 32\n",
      "On simulation: 33\n"
     ]
    }
   ],
   "source": [
    "lambdas = np.linspace(1, 34, 34)\n",
    "r = []\n",
    "for i, lamb in enumerate(lambdas):\n",
    "    print('On simulation:',i)\n",
    "    lamb = lamb/2\n",
    "    AVG_ARRIVALS_HR = lamb\n",
    "    results = simulation(10000)\n",
    "    avg_cost = np.average([entry[0] for entry in results])\n",
    "    avg_waitTime = np.average([np.average(entry[1]) for entry in results])\n",
    "    avg_served = np.average([len(entry[1]) for entry in results])\n",
    "    r.append([lamb, avg_cost, avg_waitTime, avg_served*2, avg_cost*avg_served])    "
   ]
  },
  {
   "cell_type": "code",
   "execution_count": 20,
   "metadata": {},
   "outputs": [
    {
     "data": {
      "text/plain": [
       "array([ 1.,  2.,  3.,  4.,  5.,  6.,  7.,  8.,  9., 10., 11., 12., 13.,\n",
       "       14., 15., 16., 17., 18., 19., 20., 21., 22., 23., 24., 25., 26.,\n",
       "       27., 28., 29., 30., 31., 32., 33., 34.])"
      ]
     },
     "execution_count": 20,
     "metadata": {},
     "output_type": "execute_result"
    }
   ],
   "source": [
    "lambdas"
   ]
  },
  {
   "cell_type": "code",
   "execution_count": 21,
   "metadata": {},
   "outputs": [
    {
     "data": {
      "text/html": [
       "<div>\n",
       "<style scoped>\n",
       "    .dataframe tbody tr th:only-of-type {\n",
       "        vertical-align: middle;\n",
       "    }\n",
       "\n",
       "    .dataframe tbody tr th {\n",
       "        vertical-align: top;\n",
       "    }\n",
       "\n",
       "    .dataframe thead th {\n",
       "        text-align: right;\n",
       "    }\n",
       "</style>\n",
       "<table border=\"1\" class=\"dataframe\">\n",
       "  <thead>\n",
       "    <tr style=\"text-align: right;\">\n",
       "      <th></th>\n",
       "      <th>lambda (Groups per hour)</th>\n",
       "      <th>Average Cost Per Trip</th>\n",
       "      <th>Average Wait Time</th>\n",
       "      <th>Average Customers Served</th>\n",
       "      <th>Average Cost Per Night</th>\n",
       "    </tr>\n",
       "  </thead>\n",
       "  <tbody>\n",
       "    <tr>\n",
       "      <th>0</th>\n",
       "      <td>0.5</td>\n",
       "      <td>12.522775</td>\n",
       "      <td>0.000000</td>\n",
       "      <td>3.8222</td>\n",
       "      <td>23.932275</td>\n",
       "    </tr>\n",
       "    <tr>\n",
       "      <th>1</th>\n",
       "      <td>1.0</td>\n",
       "      <td>22.700730</td>\n",
       "      <td>0.000000</td>\n",
       "      <td>6.9024</td>\n",
       "      <td>78.344759</td>\n",
       "    </tr>\n",
       "    <tr>\n",
       "      <th>2</th>\n",
       "      <td>1.5</td>\n",
       "      <td>29.796440</td>\n",
       "      <td>0.000000</td>\n",
       "      <td>9.0790</td>\n",
       "      <td>135.260939</td>\n",
       "    </tr>\n",
       "    <tr>\n",
       "      <th>3</th>\n",
       "      <td>2.0</td>\n",
       "      <td>34.293440</td>\n",
       "      <td>0.000000</td>\n",
       "      <td>10.4736</td>\n",
       "      <td>179.587887</td>\n",
       "    </tr>\n",
       "    <tr>\n",
       "      <th>4</th>\n",
       "      <td>2.5</td>\n",
       "      <td>37.108300</td>\n",
       "      <td>43.466076</td>\n",
       "      <td>11.2606</td>\n",
       "      <td>208.930861</td>\n",
       "    </tr>\n",
       "  </tbody>\n",
       "</table>\n",
       "</div>"
      ],
      "text/plain": [
       "   lambda (Groups per hour)  Average Cost Per Trip  Average Wait Time  \\\n",
       "0                       0.5              12.522775           0.000000   \n",
       "1                       1.0              22.700730           0.000000   \n",
       "2                       1.5              29.796440           0.000000   \n",
       "3                       2.0              34.293440           0.000000   \n",
       "4                       2.5              37.108300          43.466076   \n",
       "\n",
       "   Average Customers Served  Average Cost Per Night  \n",
       "0                    3.8222               23.932275  \n",
       "1                    6.9024               78.344759  \n",
       "2                    9.0790              135.260939  \n",
       "3                   10.4736              179.587887  \n",
       "4                   11.2606              208.930861  "
      ]
     },
     "execution_count": 21,
     "metadata": {},
     "output_type": "execute_result"
    }
   ],
   "source": [
    "data = pd.DataFrame(r)\n",
    "data = data.fillna(0)\n",
    "data.columns = ['lambda (Groups per hour)', 'Average Cost Per Trip', \n",
    "                'Average Wait Time', 'Average Customers Served', 'Average Cost Per Night']\n",
    "data.head()"
   ]
  },
  {
   "cell_type": "code",
   "execution_count": 22,
   "metadata": {},
   "outputs": [
    {
     "data": {
      "text/plain": [
       "Text(0, 0.5, 'Cost ($)')"
      ]
     },
     "execution_count": 22,
     "metadata": {},
     "output_type": "execute_result"
    },
    {
     "data": {
      "image/png": "[encoded data removed]",
      "text/plain": [
       "<Figure size 432x288 with 1 Axes>"
      ]
     },
     "metadata": {
      "needs_background": "light"
     },
     "output_type": "display_data"
    }
   ],
   "source": [
    "ax = data.plot(x=0, y=1, kind='line', title='Lambda vs. Cost per trip')\n",
    "ax.set_ylabel('Cost ($)')"
   ]
  },
  {
   "cell_type": "code",
   "execution_count": 23,
   "metadata": {},
   "outputs": [
    {
     "data": {
      "text/plain": [
       "Text(0, 0.5, 'Time (min)')"
      ]
     },
     "execution_count": 23,
     "metadata": {},
     "output_type": "execute_result"
    },
    {
     "data": {
      "image/png": "[encoded data removed]",
      "text/plain": [
       "<Figure size 432x288 with 1 Axes>"
      ]
     },
     "metadata": {
      "needs_background": "light"
     },
     "output_type": "display_data"
    }
   ],
   "source": [
    "ax = data.plot(x=0, y=2, kind='line', title='Lambda vs. Wait Time')\n",
    "ax.set_ylabel('Time (min)')"
   ]
  },
  {
   "cell_type": "code",
   "execution_count": 24,
   "metadata": {},
   "outputs": [
    {
     "data": {
      "text/plain": [
       "Text(0, 0.5, 'Number of Groups')"
      ]
     },
     "execution_count": 24,
     "metadata": {},
     "output_type": "execute_result"
    },
    {
     "data": {
      "image/png": "[encoded data removed]",
      "text/plain": [
       "<Figure size 432x288 with 1 Axes>"
      ]
     },
     "metadata": {
      "needs_background": "light"
     },
     "output_type": "display_data"
    }
   ],
   "source": [
    "ax = data.plot(x=0, y=3, kind='line', title='Lambda vs. Number Customers Served')\n",
    "ax.set_ylabel('Number of Groups')"
   ]
  },
  {
   "cell_type": "code",
   "execution_count": 25,
   "metadata": {},
   "outputs": [
    {
     "name": "stderr",
     "output_type": "stream",
     "text": [
      "/home/yakaboskic/.local/lib/python3.6/site-packages/pandas/core/indexing.py:630: SettingWithCopyWarning: \n",
      "A value is trying to be set on a copy of a slice from a DataFrame.\n",
      "Try using .loc[row_indexer,col_indexer] = value instead\n",
      "\n",
      "See the caveats in the documentation: http://pandas.pydata.org/pandas-docs/stable/indexing.html#indexing-view-versus-copy\n",
      "  self.obj[item_labels[indexer[info_axis]]] = value\n"
     ]
    },
    {
     "data": {
      "text/plain": [
       "Text(0, 0.5, 'Cost ($)')"
      ]
     },
     "execution_count": 25,
     "metadata": {},
     "output_type": "execute_result"
    },
    {
     "data": {
      "image/png": "[encoded data removed]",
      "text/plain": [
       "<Figure size 432x288 with 1 Axes>"
      ]
     },
     "metadata": {
      "needs_background": "light"
     },
     "output_type": "display_data"
    }
   ],
   "source": [
    "van_cost = 30000\n",
    "hours_per_day = 4\n",
    "days = 2*52\n",
    "total_hours = hours_per_day*days\n",
    "salary = 10\n",
    "total_salary = salary*total_hours\n",
    "data_yearly = data.iloc[:,[0,-1]]\n",
    "data_yearly.iloc[:,1] = data_yearly.iloc[:,1]*days + total_salary %+ van_cost\n",
    "ax = data_yearly.plot(x=0, y=1, kind='line', title='Cost of First Year vs. Lambda')\n",
    "ax.set_ylabel('Cost ($)')"
   ]
  },
  {
   "cell_type": "code",
   "execution_count": 26,
   "metadata": {},
   "outputs": [
    {
     "data": {
      "text/plain": [
       "2496"
      ]
     },
     "execution_count": 26,
     "metadata": {},
     "output_type": "execute_result"
    }
   ],
   "source": [
    "24*52*2"
   ]
  },
  {
   "cell_type": "code",
   "execution_count": 27,
   "metadata": {},
   "outputs": [
    {
     "data": {
      "text/html": [
       "<div>\n",
       "<style scoped>\n",
       "    .dataframe tbody tr th:only-of-type {\n",
       "        vertical-align: middle;\n",
       "    }\n",
       "\n",
       "    .dataframe tbody tr th {\n",
       "        vertical-align: top;\n",
       "    }\n",
       "\n",
       "    .dataframe thead th {\n",
       "        text-align: right;\n",
       "    }\n",
       "</style>\n",
       "<table border=\"1\" class=\"dataframe\">\n",
       "  <thead>\n",
       "    <tr style=\"text-align: right;\">\n",
       "      <th></th>\n",
       "      <th>lambda (Groups per hour)</th>\n",
       "      <th>Average Cost Per Night</th>\n",
       "    </tr>\n",
       "  </thead>\n",
       "  <tbody>\n",
       "    <tr>\n",
       "      <th>0</th>\n",
       "      <td>0.5</td>\n",
       "      <td>6648.956631</td>\n",
       "    </tr>\n",
       "    <tr>\n",
       "      <th>1</th>\n",
       "      <td>1.0</td>\n",
       "      <td>12307.854975</td>\n",
       "    </tr>\n",
       "    <tr>\n",
       "      <th>2</th>\n",
       "      <td>1.5</td>\n",
       "      <td>18227.137696</td>\n",
       "    </tr>\n",
       "    <tr>\n",
       "      <th>3</th>\n",
       "      <td>2.0</td>\n",
       "      <td>22837.140206</td>\n",
       "    </tr>\n",
       "    <tr>\n",
       "      <th>4</th>\n",
       "      <td>2.5</td>\n",
       "      <td>25888.809595</td>\n",
       "    </tr>\n",
       "  </tbody>\n",
       "</table>\n",
       "</div>"
      ],
      "text/plain": [
       "   lambda (Groups per hour)  Average Cost Per Night\n",
       "0                       0.5             6648.956631\n",
       "1                       1.0            12307.854975\n",
       "2                       1.5            18227.137696\n",
       "3                       2.0            22837.140206\n",
       "4                       2.5            25888.809595"
      ]
     },
     "execution_count": 27,
     "metadata": {},
     "output_type": "execute_result"
    }
   ],
   "source": [
    "data_yearly.head()"
   ]
  },
  {
   "cell_type": "code",
   "execution_count": 28,
   "metadata": {},
   "outputs": [
    {
     "name": "stderr",
     "output_type": "stream",
     "text": [
      "/home/yakaboskic/.local/lib/python3.6/site-packages/ipykernel_launcher.py:1: SettingWithCopyWarning: \n",
      "A value is trying to be set on a copy of a slice from a DataFrame.\n",
      "Try using .loc[row_indexer,col_indexer] = value instead\n",
      "\n",
      "See the caveats in the documentation: http://pandas.pydata.org/pandas-docs/stable/indexing.html#indexing-view-versus-copy\n",
      "  \"\"\"Entry point for launching an IPython kernel.\n",
      "/home/yakaboskic/.local/lib/python3.6/site-packages/ipykernel_launcher.py:2: SettingWithCopyWarning: \n",
      "A value is trying to be set on a copy of a slice from a DataFrame.\n",
      "Try using .loc[row_indexer,col_indexer] = value instead\n",
      "\n",
      "See the caveats in the documentation: http://pandas.pydata.org/pandas-docs/stable/indexing.html#indexing-view-versus-copy\n",
      "  \n"
     ]
    }
   ],
   "source": [
    "data_yearly['lamba_actual'] = data_yearly['lambda (Groups per hour)']*2\n",
    "data_yearly['Cost per Student'] = data_yearly.iloc[:,1]/(data['Average Customers Served']*2*52*2)"
   ]
  },
  {
   "cell_type": "code",
   "execution_count": 29,
   "metadata": {},
   "outputs": [
    {
     "data": {
      "text/html": [
       "<div>\n",
       "<style scoped>\n",
       "    .dataframe tbody tr th:only-of-type {\n",
       "        vertical-align: middle;\n",
       "    }\n",
       "\n",
       "    .dataframe tbody tr th {\n",
       "        vertical-align: top;\n",
       "    }\n",
       "\n",
       "    .dataframe thead th {\n",
       "        text-align: right;\n",
       "    }\n",
       "</style>\n",
       "<table border=\"1\" class=\"dataframe\">\n",
       "  <thead>\n",
       "    <tr style=\"text-align: right;\">\n",
       "      <th></th>\n",
       "      <th>lambda (Groups per hour)</th>\n",
       "      <th>Average Cost Per Night</th>\n",
       "      <th>lamba_actual</th>\n",
       "      <th>Cost per Student</th>\n",
       "    </tr>\n",
       "  </thead>\n",
       "  <tbody>\n",
       "    <tr>\n",
       "      <th>0</th>\n",
       "      <td>0.5</td>\n",
       "      <td>6648.956631</td>\n",
       "      <td>1.0</td>\n",
       "      <td>8.363282</td>\n",
       "    </tr>\n",
       "    <tr>\n",
       "      <th>1</th>\n",
       "      <td>1.0</td>\n",
       "      <td>12307.854975</td>\n",
       "      <td>2.0</td>\n",
       "      <td>8.572725</td>\n",
       "    </tr>\n",
       "    <tr>\n",
       "      <th>2</th>\n",
       "      <td>1.5</td>\n",
       "      <td>18227.137696</td>\n",
       "      <td>3.0</td>\n",
       "      <td>9.651996</td>\n",
       "    </tr>\n",
       "    <tr>\n",
       "      <th>3</th>\n",
       "      <td>2.0</td>\n",
       "      <td>22837.140206</td>\n",
       "      <td>4.0</td>\n",
       "      <td>10.482923</td>\n",
       "    </tr>\n",
       "    <tr>\n",
       "      <th>4</th>\n",
       "      <td>2.5</td>\n",
       "      <td>25888.809595</td>\n",
       "      <td>5.0</td>\n",
       "      <td>11.053179</td>\n",
       "    </tr>\n",
       "    <tr>\n",
       "      <th>5</th>\n",
       "      <td>3.0</td>\n",
       "      <td>27579.826964</td>\n",
       "      <td>6.0</td>\n",
       "      <td>11.317843</td>\n",
       "    </tr>\n",
       "    <tr>\n",
       "      <th>6</th>\n",
       "      <td>3.5</td>\n",
       "      <td>28665.775171</td>\n",
       "      <td>7.0</td>\n",
       "      <td>11.507509</td>\n",
       "    </tr>\n",
       "    <tr>\n",
       "      <th>7</th>\n",
       "      <td>4.0</td>\n",
       "      <td>29502.746458</td>\n",
       "      <td>8.0</td>\n",
       "      <td>11.646861</td>\n",
       "    </tr>\n",
       "    <tr>\n",
       "      <th>8</th>\n",
       "      <td>4.5</td>\n",
       "      <td>30079.515874</td>\n",
       "      <td>9.0</td>\n",
       "      <td>11.723989</td>\n",
       "    </tr>\n",
       "    <tr>\n",
       "      <th>9</th>\n",
       "      <td>5.0</td>\n",
       "      <td>30490.121489</td>\n",
       "      <td>10.0</td>\n",
       "      <td>11.805928</td>\n",
       "    </tr>\n",
       "    <tr>\n",
       "      <th>10</th>\n",
       "      <td>5.5</td>\n",
       "      <td>30683.285282</td>\n",
       "      <td>11.0</td>\n",
       "      <td>11.848658</td>\n",
       "    </tr>\n",
       "    <tr>\n",
       "      <th>11</th>\n",
       "      <td>6.0</td>\n",
       "      <td>30932.737757</td>\n",
       "      <td>12.0</td>\n",
       "      <td>11.884087</td>\n",
       "    </tr>\n",
       "    <tr>\n",
       "      <th>12</th>\n",
       "      <td>6.5</td>\n",
       "      <td>31221.502458</td>\n",
       "      <td>13.0</td>\n",
       "      <td>11.920535</td>\n",
       "    </tr>\n",
       "    <tr>\n",
       "      <th>13</th>\n",
       "      <td>7.0</td>\n",
       "      <td>31287.909260</td>\n",
       "      <td>14.0</td>\n",
       "      <td>11.944751</td>\n",
       "    </tr>\n",
       "    <tr>\n",
       "      <th>14</th>\n",
       "      <td>7.5</td>\n",
       "      <td>31471.220859</td>\n",
       "      <td>15.0</td>\n",
       "      <td>11.958707</td>\n",
       "    </tr>\n",
       "    <tr>\n",
       "      <th>15</th>\n",
       "      <td>8.0</td>\n",
       "      <td>31601.185068</td>\n",
       "      <td>16.0</td>\n",
       "      <td>11.991789</td>\n",
       "    </tr>\n",
       "    <tr>\n",
       "      <th>16</th>\n",
       "      <td>8.5</td>\n",
       "      <td>31608.399777</td>\n",
       "      <td>17.0</td>\n",
       "      <td>12.000400</td>\n",
       "    </tr>\n",
       "    <tr>\n",
       "      <th>17</th>\n",
       "      <td>9.0</td>\n",
       "      <td>31708.402789</td>\n",
       "      <td>18.0</td>\n",
       "      <td>12.005563</td>\n",
       "    </tr>\n",
       "    <tr>\n",
       "      <th>18</th>\n",
       "      <td>9.5</td>\n",
       "      <td>31829.020373</td>\n",
       "      <td>19.0</td>\n",
       "      <td>12.033794</td>\n",
       "    </tr>\n",
       "    <tr>\n",
       "      <th>19</th>\n",
       "      <td>10.0</td>\n",
       "      <td>32025.855235</td>\n",
       "      <td>20.0</td>\n",
       "      <td>12.044939</td>\n",
       "    </tr>\n",
       "    <tr>\n",
       "      <th>20</th>\n",
       "      <td>10.5</td>\n",
       "      <td>32070.382647</td>\n",
       "      <td>21.0</td>\n",
       "      <td>12.056970</td>\n",
       "    </tr>\n",
       "    <tr>\n",
       "      <th>21</th>\n",
       "      <td>11.0</td>\n",
       "      <td>31983.794722</td>\n",
       "      <td>22.0</td>\n",
       "      <td>12.067069</td>\n",
       "    </tr>\n",
       "    <tr>\n",
       "      <th>22</th>\n",
       "      <td>11.5</td>\n",
       "      <td>32107.834322</td>\n",
       "      <td>23.0</td>\n",
       "      <td>12.071428</td>\n",
       "    </tr>\n",
       "    <tr>\n",
       "      <th>23</th>\n",
       "      <td>12.0</td>\n",
       "      <td>32184.813901</td>\n",
       "      <td>24.0</td>\n",
       "      <td>12.069223</td>\n",
       "    </tr>\n",
       "    <tr>\n",
       "      <th>24</th>\n",
       "      <td>12.5</td>\n",
       "      <td>32267.886792</td>\n",
       "      <td>25.0</td>\n",
       "      <td>12.090567</td>\n",
       "    </tr>\n",
       "    <tr>\n",
       "      <th>25</th>\n",
       "      <td>13.0</td>\n",
       "      <td>32168.163750</td>\n",
       "      <td>26.0</td>\n",
       "      <td>12.097137</td>\n",
       "    </tr>\n",
       "    <tr>\n",
       "      <th>26</th>\n",
       "      <td>13.5</td>\n",
       "      <td>32185.132560</td>\n",
       "      <td>27.0</td>\n",
       "      <td>12.090845</td>\n",
       "    </tr>\n",
       "    <tr>\n",
       "      <th>27</th>\n",
       "      <td>14.0</td>\n",
       "      <td>32255.429977</td>\n",
       "      <td>28.0</td>\n",
       "      <td>12.104579</td>\n",
       "    </tr>\n",
       "    <tr>\n",
       "      <th>28</th>\n",
       "      <td>14.5</td>\n",
       "      <td>32322.956342</td>\n",
       "      <td>29.0</td>\n",
       "      <td>12.106107</td>\n",
       "    </tr>\n",
       "    <tr>\n",
       "      <th>29</th>\n",
       "      <td>15.0</td>\n",
       "      <td>32408.666696</td>\n",
       "      <td>30.0</td>\n",
       "      <td>12.120457</td>\n",
       "    </tr>\n",
       "    <tr>\n",
       "      <th>30</th>\n",
       "      <td>15.5</td>\n",
       "      <td>32453.280402</td>\n",
       "      <td>31.0</td>\n",
       "      <td>12.114901</td>\n",
       "    </tr>\n",
       "    <tr>\n",
       "      <th>31</th>\n",
       "      <td>16.0</td>\n",
       "      <td>32451.457674</td>\n",
       "      <td>32.0</td>\n",
       "      <td>12.124011</td>\n",
       "    </tr>\n",
       "    <tr>\n",
       "      <th>32</th>\n",
       "      <td>16.5</td>\n",
       "      <td>32448.334792</td>\n",
       "      <td>33.0</td>\n",
       "      <td>12.110798</td>\n",
       "    </tr>\n",
       "    <tr>\n",
       "      <th>33</th>\n",
       "      <td>17.0</td>\n",
       "      <td>32502.184520</td>\n",
       "      <td>34.0</td>\n",
       "      <td>12.136738</td>\n",
       "    </tr>\n",
       "  </tbody>\n",
       "</table>\n",
       "</div>"
      ],
      "text/plain": [
       "    lambda (Groups per hour)  Average Cost Per Night  lamba_actual  \\\n",
       "0                        0.5             6648.956631           1.0   \n",
       "1                        1.0            12307.854975           2.0   \n",
       "2                        1.5            18227.137696           3.0   \n",
       "3                        2.0            22837.140206           4.0   \n",
       "4                        2.5            25888.809595           5.0   \n",
       "5                        3.0            27579.826964           6.0   \n",
       "6                        3.5            28665.775171           7.0   \n",
       "7                        4.0            29502.746458           8.0   \n",
       "8                        4.5            30079.515874           9.0   \n",
       "9                        5.0            30490.121489          10.0   \n",
       "10                       5.5            30683.285282          11.0   \n",
       "11                       6.0            30932.737757          12.0   \n",
       "12                       6.5            31221.502458          13.0   \n",
       "13                       7.0            31287.909260          14.0   \n",
       "14                       7.5            31471.220859          15.0   \n",
       "15                       8.0            31601.185068          16.0   \n",
       "16                       8.5            31608.399777          17.0   \n",
       "17                       9.0            31708.402789          18.0   \n",
       "18                       9.5            31829.020373          19.0   \n",
       "19                      10.0            32025.855235          20.0   \n",
       "20                      10.5            32070.382647          21.0   \n",
       "21                      11.0            31983.794722          22.0   \n",
       "22                      11.5            32107.834322          23.0   \n",
       "23                      12.0            32184.813901          24.0   \n",
       "24                      12.5            32267.886792          25.0   \n",
       "25                      13.0            32168.163750          26.0   \n",
       "26                      13.5            32185.132560          27.0   \n",
       "27                      14.0            32255.429977          28.0   \n",
       "28                      14.5            32322.956342          29.0   \n",
       "29                      15.0            32408.666696          30.0   \n",
       "30                      15.5            32453.280402          31.0   \n",
       "31                      16.0            32451.457674          32.0   \n",
       "32                      16.5            32448.334792          33.0   \n",
       "33                      17.0            32502.184520          34.0   \n",
       "\n",
       "    Cost per Student  \n",
       "0           8.363282  \n",
       "1           8.572725  \n",
       "2           9.651996  \n",
       "3          10.482923  \n",
       "4          11.053179  \n",
       "5          11.317843  \n",
       "6          11.507509  \n",
       "7          11.646861  \n",
       "8          11.723989  \n",
       "9          11.805928  \n",
       "10         11.848658  \n",
       "11         11.884087  \n",
       "12         11.920535  \n",
       "13         11.944751  \n",
       "14         11.958707  \n",
       "15         11.991789  \n",
       "16         12.000400  \n",
       "17         12.005563  \n",
       "18         12.033794  \n",
       "19         12.044939  \n",
       "20         12.056970  \n",
       "21         12.067069  \n",
       "22         12.071428  \n",
       "23         12.069223  \n",
       "24         12.090567  \n",
       "25         12.097137  \n",
       "26         12.090845  \n",
       "27         12.104579  \n",
       "28         12.106107  \n",
       "29         12.120457  \n",
       "30         12.114901  \n",
       "31         12.124011  \n",
       "32         12.110798  \n",
       "33         12.136738  "
      ]
     },
     "execution_count": 29,
     "metadata": {},
     "output_type": "execute_result"
    }
   ],
   "source": [
    "data_yearly"
   ]
  },
  {
   "cell_type": "code",
   "execution_count": 113,
   "metadata": {},
   "outputs": [
    {
     "data": {
      "text/plain": [
       "new index\n",
       "14     6.979932\n",
       "13     7.253436\n",
       "12     7.567088\n",
       "11     7.930427\n",
       "10     8.364961\n",
       "9      8.879637\n",
       "8      9.494590\n",
       "7     10.252659\n",
       "6     11.244395\n",
       "5     12.458605\n",
       "4     14.215887\n",
       "3     16.678562\n",
       "2     20.523791\n",
       "1     27.370176\n",
       "0     42.979932\n",
       "Name: T=2 $/student, dtype: float64"
      ]
     },
     "execution_count": 113,
     "metadata": {},
     "output_type": "execute_result"
    }
   ],
   "source": [
    "df_taxi = pd.read_csv('/mnt/c/Users/c_yak/OneDrive/Pictures/Dartmouth/engs103/cost_taxi.csv')\n",
    "df_bus = pd.read_csv('/home/yakaboskic/courses/engs103Project/bus/cost_bus.csv')\n",
    "\n",
    "df_taxi['new index'] = [14-i for i in range(0,15)]\n",
    "df_taxi = df_taxi.set_index('new index')\n",
    "df_taxi['T=2 $/student']"
   ]
  },
  {
   "cell_type": "code",
   "execution_count": 116,
   "metadata": {},
   "outputs": [],
   "source": [
    "df_total = pd.concat([data_yearly['lamba_actual'], \n",
    "           data_yearly['Cost per Student'], \n",
    "          df_bus['Cost per student served'],\n",
    "          df_taxi['T=2 $/student'],\n",
    "          df_taxi['T=1 $/student']], axis=1)\n",
    "df_total.columns = ['Lambda', 'Van', 'Bus', 'T2', 'T1']"
   ]
  },
  {
   "cell_type": "code",
   "execution_count": 122,
   "metadata": {},
   "outputs": [
    {
     "data": {
      "text/plain": [
       "Text(0, 0.5, 'Cost per Student ($)')"
      ]
     },
     "execution_count": 122,
     "metadata": {},
     "output_type": "execute_result"
    },
    {
     "data": {
      "image/png": "[encoded data removed]",
      "text/plain": [
       "<Figure size 432x288 with 1 Axes>"
      ]
     },
     "metadata": {
      "needs_background": "light"
     },
     "output_type": "display_data"
    }
   ],
   "source": [
    "ax = df_total.plot(x=0, y=[1,2,3,4], kind='line', title='Cost per Student Serviced',logy=False)\n",
    "ax.set_ylabel('Cost per Student ($)')"
   ]
  },
  {
   "cell_type": "code",
   "execution_count": 118,
   "metadata": {},
   "outputs": [
    {
     "data": {
      "text/html": [
       "<div>\n",
       "<style scoped>\n",
       "    .dataframe tbody tr th:only-of-type {\n",
       "        vertical-align: middle;\n",
       "    }\n",
       "\n",
       "    .dataframe tbody tr th {\n",
       "        vertical-align: top;\n",
       "    }\n",
       "\n",
       "    .dataframe thead th {\n",
       "        text-align: right;\n",
       "    }\n",
       "</style>\n",
       "<table border=\"1\" class=\"dataframe\">\n",
       "  <thead>\n",
       "    <tr style=\"text-align: right;\">\n",
       "      <th></th>\n",
       "      <th>Lambda</th>\n",
       "      <th>Van</th>\n",
       "      <th>Bus</th>\n",
       "      <th>T2</th>\n",
       "      <th>T1</th>\n",
       "    </tr>\n",
       "  </thead>\n",
       "  <tbody>\n",
       "    <tr>\n",
       "      <th>0</th>\n",
       "      <td>0.500000</td>\n",
       "      <td>11.688148</td>\n",
       "      <td>80.000000</td>\n",
       "      <td>42.979932</td>\n",
       "      <td>22.509349</td>\n",
       "    </tr>\n",
       "    <tr>\n",
       "      <th>1</th>\n",
       "      <td>0.821429</td>\n",
       "      <td>8.898182</td>\n",
       "      <td>48.695652</td>\n",
       "      <td>27.370176</td>\n",
       "      <td>14.704470</td>\n",
       "    </tr>\n",
       "    <tr>\n",
       "      <th>2</th>\n",
       "      <td>1.142857</td>\n",
       "      <td>8.202047</td>\n",
       "      <td>35.000000</td>\n",
       "      <td>20.523791</td>\n",
       "      <td>11.281278</td>\n",
       "    </tr>\n",
       "    <tr>\n",
       "      <th>3</th>\n",
       "      <td>1.464286</td>\n",
       "      <td>8.162423</td>\n",
       "      <td>27.317073</td>\n",
       "      <td>16.678562</td>\n",
       "      <td>9.358664</td>\n",
       "    </tr>\n",
       "    <tr>\n",
       "      <th>4</th>\n",
       "      <td>1.785714</td>\n",
       "      <td>8.383387</td>\n",
       "      <td>22.400000</td>\n",
       "      <td>14.215887</td>\n",
       "      <td>8.127326</td>\n",
       "    </tr>\n",
       "    <tr>\n",
       "      <th>5</th>\n",
       "      <td>2.107143</td>\n",
       "      <td>8.766541</td>\n",
       "      <td>18.983051</td>\n",
       "      <td>12.458605</td>\n",
       "      <td>7.248685</td>\n",
       "    </tr>\n",
       "    <tr>\n",
       "      <th>6</th>\n",
       "      <td>2.428571</td>\n",
       "      <td>9.103087</td>\n",
       "      <td>16.470588</td>\n",
       "      <td>11.244395</td>\n",
       "      <td>6.641580</td>\n",
       "    </tr>\n",
       "    <tr>\n",
       "      <th>7</th>\n",
       "      <td>2.750000</td>\n",
       "      <td>9.329597</td>\n",
       "      <td>14.545455</td>\n",
       "      <td>10.252659</td>\n",
       "      <td>6.145712</td>\n",
       "    </tr>\n",
       "    <tr>\n",
       "      <th>8</th>\n",
       "      <td>3.071429</td>\n",
       "      <td>9.785913</td>\n",
       "      <td>13.023256</td>\n",
       "      <td>9.494590</td>\n",
       "      <td>5.766678</td>\n",
       "    </tr>\n",
       "    <tr>\n",
       "      <th>9</th>\n",
       "      <td>3.392857</td>\n",
       "      <td>10.013964</td>\n",
       "      <td>11.789474</td>\n",
       "      <td>8.879637</td>\n",
       "      <td>5.459201</td>\n",
       "    </tr>\n",
       "    <tr>\n",
       "      <th>10</th>\n",
       "      <td>3.714286</td>\n",
       "      <td>10.297217</td>\n",
       "      <td>10.769231</td>\n",
       "      <td>8.364961</td>\n",
       "      <td>5.201863</td>\n",
       "    </tr>\n",
       "    <tr>\n",
       "      <th>11</th>\n",
       "      <td>4.035714</td>\n",
       "      <td>10.453163</td>\n",
       "      <td>9.911504</td>\n",
       "      <td>7.930427</td>\n",
       "      <td>4.984596</td>\n",
       "    </tr>\n",
       "    <tr>\n",
       "      <th>12</th>\n",
       "      <td>4.357143</td>\n",
       "      <td>10.763119</td>\n",
       "      <td>9.180328</td>\n",
       "      <td>7.567088</td>\n",
       "      <td>4.802927</td>\n",
       "    </tr>\n",
       "    <tr>\n",
       "      <th>13</th>\n",
       "      <td>4.678571</td>\n",
       "      <td>10.934430</td>\n",
       "      <td>8.549618</td>\n",
       "      <td>7.253436</td>\n",
       "      <td>4.646101</td>\n",
       "    </tr>\n",
       "    <tr>\n",
       "      <th>14</th>\n",
       "      <td>5.000000</td>\n",
       "      <td>11.047683</td>\n",
       "      <td>8.000000</td>\n",
       "      <td>6.979932</td>\n",
       "      <td>4.509349</td>\n",
       "    </tr>\n",
       "  </tbody>\n",
       "</table>\n",
       "</div>"
      ],
      "text/plain": [
       "      Lambda        Van        Bus         T2         T1\n",
       "0   0.500000  11.688148  80.000000  42.979932  22.509349\n",
       "1   0.821429   8.898182  48.695652  27.370176  14.704470\n",
       "2   1.142857   8.202047  35.000000  20.523791  11.281278\n",
       "3   1.464286   8.162423  27.317073  16.678562   9.358664\n",
       "4   1.785714   8.383387  22.400000  14.215887   8.127326\n",
       "5   2.107143   8.766541  18.983051  12.458605   7.248685\n",
       "6   2.428571   9.103087  16.470588  11.244395   6.641580\n",
       "7   2.750000   9.329597  14.545455  10.252659   6.145712\n",
       "8   3.071429   9.785913  13.023256   9.494590   5.766678\n",
       "9   3.392857  10.013964  11.789474   8.879637   5.459201\n",
       "10  3.714286  10.297217  10.769231   8.364961   5.201863\n",
       "11  4.035714  10.453163   9.911504   7.930427   4.984596\n",
       "12  4.357143  10.763119   9.180328   7.567088   4.802927\n",
       "13  4.678571  10.934430   8.549618   7.253436   4.646101\n",
       "14  5.000000  11.047683   8.000000   6.979932   4.509349"
      ]
     },
     "execution_count": 118,
     "metadata": {},
     "output_type": "execute_result"
    }
   ],
   "source": [
    "df_total"
   ]
  },
  {
   "cell_type": "code",
   "execution_count": null,
   "metadata": {},
   "outputs": [],
   "source": []
  }
 ],
 "metadata": {
  "kernelspec": {
   "display_name": "Python 3.6",
   "language": "python",
   "name": "python3.6"
  },
  "language_info": {
   "codemirror_mode": {
    "name": "ipython",
    "version": 3
   },
   "file_extension": ".py",
   "mimetype": "text/x-python",
   "name": "python",
   "nbconvert_exporter": "python",
   "pygments_lexer": "ipython3",
   "version": "3.6.7"
  }
 },
 "nbformat": 4,
 "nbformat_minor": 2
}
