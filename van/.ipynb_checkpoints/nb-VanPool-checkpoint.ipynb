{
 "cells": [
  {
   "cell_type": "code",
   "execution_count": 1,
   "metadata": {},
   "outputs": [],
   "source": [
    "import sys\n",
    "import os \n",
    "import numpy as np\n",
    "import pandas as pd\n",
    "import seaborn as sb\n",
    "import random\n",
    "import itertools\n",
    "import math\n",
    "import copy\n",
    "import matplotlib.pyplot as plt"
   ]
  },
  {
   "cell_type": "code",
   "execution_count": 2,
   "metadata": {},
   "outputs": [
    {
     "data": {
      "text/html": [
       "<div>\n",
       "<style scoped>\n",
       "    .dataframe tbody tr th:only-of-type {\n",
       "        vertical-align: middle;\n",
       "    }\n",
       "\n",
       "    .dataframe tbody tr th {\n",
       "        vertical-align: top;\n",
       "    }\n",
       "\n",
       "    .dataframe thead th {\n",
       "        text-align: right;\n",
       "    }\n",
       "</style>\n",
       "<table border=\"1\" class=\"dataframe\">\n",
       "  <thead>\n",
       "    <tr style=\"text-align: right;\">\n",
       "      <th></th>\n",
       "      <th>LO Street1</th>\n",
       "      <th>LO City</th>\n",
       "      <th>LO State</th>\n",
       "      <th>LO Zip</th>\n",
       "    </tr>\n",
       "  </thead>\n",
       "  <tbody>\n",
       "    <tr>\n",
       "      <th>0</th>\n",
       "      <td>705 Canaan St.</td>\n",
       "      <td>Canaan</td>\n",
       "      <td>NH</td>\n",
       "      <td>03741</td>\n",
       "    </tr>\n",
       "    <tr>\n",
       "      <th>1</th>\n",
       "      <td>392 Jones Hill Road</td>\n",
       "      <td>Canaan</td>\n",
       "      <td>NH</td>\n",
       "      <td>03741</td>\n",
       "    </tr>\n",
       "    <tr>\n",
       "      <th>2</th>\n",
       "      <td>9 Roberts Rd. #202</td>\n",
       "      <td>Canaan</td>\n",
       "      <td>NH</td>\n",
       "      <td>03741</td>\n",
       "    </tr>\n",
       "    <tr>\n",
       "      <th>3</th>\n",
       "      <td>161 Smith Pond Road</td>\n",
       "      <td>Enfield</td>\n",
       "      <td>NH</td>\n",
       "      <td>03748</td>\n",
       "    </tr>\n",
       "    <tr>\n",
       "      <th>4</th>\n",
       "      <td>153 Shaker Hill Road #1</td>\n",
       "      <td>Enfield</td>\n",
       "      <td>NH</td>\n",
       "      <td>03748</td>\n",
       "    </tr>\n",
       "  </tbody>\n",
       "</table>\n",
       "</div>"
      ],
      "text/plain": [
       "                LO Street1  LO City LO State LO Zip\n",
       "0           705 Canaan St.   Canaan       NH  03741\n",
       "1      392 Jones Hill Road   Canaan       NH  03741\n",
       "2       9 Roberts Rd. #202   Canaan       NH  03741\n",
       "3      161 Smith Pond Road  Enfield       NH  03748\n",
       "4  153 Shaker Hill Road #1  Enfield       NH  03748"
      ]
     },
     "execution_count": 2,
     "metadata": {},
     "output_type": "execute_result"
    }
   ],
   "source": [
    "df_data = pd.read_csv('/home/yakaboskic/courses/engs103Project/data/dart-grad-data-clean.csv')\n",
    "df_data = df_data.dropna()\n",
    "df_data.head()"
   ]
  },
  {
   "cell_type": "code",
   "execution_count": 3,
   "metadata": {},
   "outputs": [],
   "source": [
    "df_data['LO City'].unique()\n",
    "sachem_roads = ['Sachem', 'Drake', 'Gould', 'Haddock', 'Ralston']"
   ]
  },
  {
   "cell_type": "code",
   "execution_count": 4,
   "metadata": {},
   "outputs": [],
   "source": [
    "city = df_data['LO City']\n",
    "street = df_data['LO Street1']\n",
    "h1 = ~city.str.contains('HANOVER')\n",
    "h2 = ~city.str.contains('hanover')\n",
    "h3 = ~city.str.contains('Hanvoer')\n",
    "leb1 = ~city.str.contains('LEBANON')\n",
    "wleb1 = ~city.str.contains('West Labanon')\n",
    "wleb2 = ~city.str.contains('West Leb')\n",
    "wleb3 = ~city.str.contains('WEST LEBANNON')\n",
    "wleb4 = ~city.str.contains('West lebanon')\n",
    "wleb5 = ~city.str.contains('west lebanon')\n",
    "wrj1 = ~city.str.contains('White River Jct')\n",
    "wrj2 = ~city.str.contains('white river junction')\n",
    "sachem = ~street.str.contains('|'.join(sachem_roads))"
   ]
  },
  {
   "cell_type": "code",
   "execution_count": 5,
   "metadata": {},
   "outputs": [],
   "source": [
    "df_data['LO City'] = df_data['LO City'].where(h1, 'Hanover')\n",
    "df_data['LO City'] = df_data['LO City'].where(h2, 'Hanover')\n",
    "df_data['LO City'] = df_data['LO City'].where(h3, 'Hanover')\n",
    "df_data['LO City'] = df_data['LO City'].where(leb1, 'Lebanon')\n",
    "df_data['LO City'] = df_data['LO City'].where(wleb1, 'West Lebanon')\n",
    "df_data['LO City'] = df_data['LO City'].where(wleb2, 'West Lebanon')\n",
    "df_data['LO City'] = df_data['LO City'].where(wleb3, 'West Lebanon')\n",
    "df_data['LO City'] = df_data['LO City'].where(wleb4, 'West Lebanon')\n",
    "df_data['LO City'] = df_data['LO City'].where(wleb5, 'West Lebanon')\n",
    "df_data['LO City'] = df_data['LO City'].where(wrj1, 'White River Junction')\n",
    "df_data['LO City'] = df_data['LO City'].where(wrj2, 'White River Junction')\n",
    "df_data['LO City'] = df_data['LO City'].where(sachem, 'Sachem')"
   ]
  },
  {
   "cell_type": "code",
   "execution_count": 6,
   "metadata": {},
   "outputs": [
    {
     "data": {
      "text/plain": [
       "array(['Canaan', 'Enfield', 'Etna', 'Hanover', 'Sachem', 'Hartford',\n",
       "       'Hartland', 'Hoboken', 'Lebanon', 'Lyme', 'Norwich',\n",
       "       'West Lebanon', 'White River Junction'], dtype=object)"
      ]
     },
     "execution_count": 6,
     "metadata": {},
     "output_type": "execute_result"
    }
   ],
   "source": [
    "df_data['LO City'].unique()"
   ]
  },
  {
   "cell_type": "code",
   "execution_count": 7,
   "metadata": {},
   "outputs": [],
   "source": [
    "stops = ['Enfield', 'Sachem', 'Lebanon', 'Norwich', 'West Lebanon', 'White River Junction']"
   ]
  },
  {
   "cell_type": "code",
   "execution_count": 8,
   "metadata": {},
   "outputs": [],
   "source": [
    "df_stopOnly = df_data[df_data['LO City'].isin(stops)]"
   ]
  },
  {
   "cell_type": "code",
   "execution_count": 9,
   "metadata": {},
   "outputs": [
    {
     "data": {
      "text/plain": [
       "<matplotlib.axes._subplots.AxesSubplot at 0x7fee7d975908>"
      ]
     },
     "execution_count": 9,
     "metadata": {},
     "output_type": "execute_result"
    },
    {
     "data": {
      "image/png": "[encoded data removed]",
      "text/plain": [
       "<Figure size 432x288 with 1 Axes>"
      ]
     },
     "metadata": {
      "needs_background": "light"
     },
     "output_type": "display_data"
    }
   ],
   "source": [
    "sb.countplot(x='LO City', data=df_stopOnly)"
   ]
  },
  {
   "cell_type": "code",
   "execution_count": 10,
   "metadata": {},
   "outputs": [
    {
     "name": "stdout",
     "output_type": "stream",
     "text": [
      "Lebanon                 98\n",
      "Sachem                  72\n",
      "West Lebanon            42\n",
      "White River Junction    36\n",
      "Norwich                 26\n",
      "Enfield                 13\n",
      "Name: LO City, dtype: int64\n",
      "Lebanon                 0.341463\n",
      "Sachem                  0.250871\n",
      "West Lebanon            0.146341\n",
      "White River Junction    0.125436\n",
      "Norwich                 0.090592\n",
      "Enfield                 0.045296\n",
      "Name: LO City, dtype: float64\n"
     ]
    }
   ],
   "source": [
    "total = df_stopOnly['LO City'].count()\n",
    "stats = df_stopOnly['LO City'].value_counts()/total\n",
    "print(df_stopOnly['LO City'].value_counts())\n",
    "print(stats)"
   ]
  },
  {
   "cell_type": "code",
   "execution_count": 11,
   "metadata": {},
   "outputs": [],
   "source": [
    "def city_rand():\n",
    "    rand = random.random()\n",
    "    start = 0\n",
    "    end = stats.Lebanon\n",
    "    if rand <= end:\n",
    "        return 'Lebanon'\n",
    "    start = end\n",
    "    end = start + stats.Sachem\n",
    "    if rand > start and rand <= end:\n",
    "        return 'Sachem'\n",
    "    start = end\n",
    "    end = start + stats['West Lebanon']\n",
    "    if rand > start and rand <= end:\n",
    "        return 'West Lebanon'\n",
    "    start = end\n",
    "    end = start + stats['White River Junction']\n",
    "    if rand > start and rand <= end:\n",
    "        return 'White River Junction'\n",
    "    start = end\n",
    "    end = start + stats.Norwich\n",
    "    if rand > start and rand <= end:\n",
    "        return 'Norwich'\n",
    "    start = end\n",
    "    end = start + stats['Enfield']\n",
    "    if rand > start and rand <= end:\n",
    "        return 'Enfield'\n",
    "    else:\n",
    "        return 'Issue'"
   ]
  },
  {
   "cell_type": "code",
   "execution_count": 12,
   "metadata": {},
   "outputs": [
    {
     "data": {
      "text/html": [
       "<div>\n",
       "<style scoped>\n",
       "    .dataframe tbody tr th:only-of-type {\n",
       "        vertical-align: middle;\n",
       "    }\n",
       "\n",
       "    .dataframe tbody tr th {\n",
       "        vertical-align: top;\n",
       "    }\n",
       "\n",
       "    .dataframe thead th {\n",
       "        text-align: right;\n",
       "    }\n",
       "</style>\n",
       "<table border=\"1\" class=\"dataframe\">\n",
       "  <thead>\n",
       "    <tr style=\"text-align: right;\">\n",
       "      <th></th>\n",
       "      <th>Hanover</th>\n",
       "      <th>Lebanon</th>\n",
       "      <th>West Lebanon</th>\n",
       "      <th>Norwich</th>\n",
       "      <th>White River Junction</th>\n",
       "      <th>Wilder</th>\n",
       "      <th>Sachem</th>\n",
       "      <th>Enfield</th>\n",
       "    </tr>\n",
       "    <tr>\n",
       "      <th>Unnamed: 0</th>\n",
       "      <th></th>\n",
       "      <th></th>\n",
       "      <th></th>\n",
       "      <th></th>\n",
       "      <th></th>\n",
       "      <th></th>\n",
       "      <th></th>\n",
       "      <th></th>\n",
       "    </tr>\n",
       "  </thead>\n",
       "  <tbody>\n",
       "    <tr>\n",
       "      <th>Hanover</th>\n",
       "      <td>0.0</td>\n",
       "      <td>5.7</td>\n",
       "      <td>4.3</td>\n",
       "      <td>1.6</td>\n",
       "      <td>4.5</td>\n",
       "      <td>4.0</td>\n",
       "      <td>1.6</td>\n",
       "      <td>10.8</td>\n",
       "    </tr>\n",
       "    <tr>\n",
       "      <th>Lebanon</th>\n",
       "      <td>5.7</td>\n",
       "      <td>0.0</td>\n",
       "      <td>3.6</td>\n",
       "      <td>7.5</td>\n",
       "      <td>4.5</td>\n",
       "      <td>5.9</td>\n",
       "      <td>7.0</td>\n",
       "      <td>6.7</td>\n",
       "    </tr>\n",
       "    <tr>\n",
       "      <th>West Lebanon</th>\n",
       "      <td>4.3</td>\n",
       "      <td>3.6</td>\n",
       "      <td>0.0</td>\n",
       "      <td>5.6</td>\n",
       "      <td>1.0</td>\n",
       "      <td>2.4</td>\n",
       "      <td>3.6</td>\n",
       "      <td>10.7</td>\n",
       "    </tr>\n",
       "    <tr>\n",
       "      <th>Norwich</th>\n",
       "      <td>1.6</td>\n",
       "      <td>7.5</td>\n",
       "      <td>5.6</td>\n",
       "      <td>0.0</td>\n",
       "      <td>5.2</td>\n",
       "      <td>3.5</td>\n",
       "      <td>3.2</td>\n",
       "      <td>12.8</td>\n",
       "    </tr>\n",
       "    <tr>\n",
       "      <th>White River Junction</th>\n",
       "      <td>4.5</td>\n",
       "      <td>4.5</td>\n",
       "      <td>1.0</td>\n",
       "      <td>5.2</td>\n",
       "      <td>0.0</td>\n",
       "      <td>1.9</td>\n",
       "      <td>3.8</td>\n",
       "      <td>11.5</td>\n",
       "    </tr>\n",
       "    <tr>\n",
       "      <th>Wilder</th>\n",
       "      <td>4.0</td>\n",
       "      <td>5.9</td>\n",
       "      <td>2.4</td>\n",
       "      <td>3.5</td>\n",
       "      <td>1.9</td>\n",
       "      <td>0.0</td>\n",
       "      <td>5.2</td>\n",
       "      <td>15.2</td>\n",
       "    </tr>\n",
       "    <tr>\n",
       "      <th>Sachem</th>\n",
       "      <td>1.6</td>\n",
       "      <td>7.0</td>\n",
       "      <td>3.6</td>\n",
       "      <td>3.2</td>\n",
       "      <td>3.8</td>\n",
       "      <td>5.2</td>\n",
       "      <td>0.0</td>\n",
       "      <td>12.3</td>\n",
       "    </tr>\n",
       "    <tr>\n",
       "      <th>Enfield</th>\n",
       "      <td>10.8</td>\n",
       "      <td>6.7</td>\n",
       "      <td>10.7</td>\n",
       "      <td>12.8</td>\n",
       "      <td>11.5</td>\n",
       "      <td>15.2</td>\n",
       "      <td>12.3</td>\n",
       "      <td>0.0</td>\n",
       "    </tr>\n",
       "  </tbody>\n",
       "</table>\n",
       "</div>"
      ],
      "text/plain": [
       "                      Hanover  Lebanon  West Lebanon  Norwich  \\\n",
       "Unnamed: 0                                                      \n",
       "Hanover                   0.0      5.7           4.3      1.6   \n",
       "Lebanon                   5.7      0.0           3.6      7.5   \n",
       "West Lebanon              4.3      3.6           0.0      5.6   \n",
       "Norwich                   1.6      7.5           5.6      0.0   \n",
       "White River Junction      4.5      4.5           1.0      5.2   \n",
       "Wilder                    4.0      5.9           2.4      3.5   \n",
       "Sachem                    1.6      7.0           3.6      3.2   \n",
       "Enfield                  10.8      6.7          10.7     12.8   \n",
       "\n",
       "                      White River Junction  Wilder  Sachem  Enfield  \n",
       "Unnamed: 0                                                           \n",
       "Hanover                                4.5     4.0     1.6     10.8  \n",
       "Lebanon                                4.5     5.9     7.0      6.7  \n",
       "West Lebanon                           1.0     2.4     3.6     10.7  \n",
       "Norwich                                5.2     3.5     3.2     12.8  \n",
       "White River Junction                   0.0     1.9     3.8     11.5  \n",
       "Wilder                                 1.9     0.0     5.2     15.2  \n",
       "Sachem                                 3.8     5.2     0.0     12.3  \n",
       "Enfield                               11.5    15.2    12.3      0.0  "
      ]
     },
     "execution_count": 12,
     "metadata": {},
     "output_type": "execute_result"
    }
   ],
   "source": [
    "df_dist = pd.read_csv('/home/yakaboskic/courses/engs103Project/data/UpperValleyDists.csv')\n",
    "df_dist = df_dist.set_index('Unnamed: 0')\n",
    "df_dist = df_dist.fillna(0)\n",
    "df_dist"
   ]
  },
  {
   "cell_type": "code",
   "execution_count": 13,
   "metadata": {},
   "outputs": [],
   "source": [
    "def get_tsp_trip(stops):\n",
    "    start = 'Hanover'\n",
    "    end = 'Hanover'\n",
    "    distance_results = []\n",
    "    stops = set(stops)\n",
    "    for perm in itertools.permutations(stops, r=len(stops)):\n",
    "        tour = list(perm)\n",
    "        tour.insert(0, 'Hanover')\n",
    "        tour.append('Hanover')\n",
    "        distance = 0\n",
    "        start = 'Hanover'\n",
    "        for stop in tour:\n",
    "            distance = distance + df_dist.loc[start, stop]\n",
    "            start = stop\n",
    "        distance_results.append([distance, tour])\n",
    "    return sorted(distance_results)[0]"
   ]
  },
  {
   "cell_type": "code",
   "execution_count": 14,
   "metadata": {},
   "outputs": [
    {
     "data": {
      "text/plain": [
       "[29.1, ['Hanover', 'Enfield', 'White River Junction', 'Norwich', 'Hanover']]"
      ]
     },
     "execution_count": 14,
     "metadata": {},
     "output_type": "execute_result"
    }
   ],
   "source": [
    "get_tsp_trip(['White River Junction', 'Norwich',  'Enfield'])"
   ]
  },
  {
   "cell_type": "code",
   "execution_count": 15,
   "metadata": {},
   "outputs": [],
   "source": [
    "AVG_MILES_HR = 20\n",
    "AVG_ARRIVALS_HR = 4\n",
    "AVG_STOP_TIME = 1\n",
    "MPG = 15\n",
    "GAS_PRICE_GALLON = 3\n",
    "DEPRECIATION = 30000/100000\n",
    "COST_PER_MILE = GAS_PRICE_GALLON/MPG + DEPRECIATION\n",
    "\n",
    "def simulation(runs=100):\n",
    "    results = []\n",
    "    for run in range(runs):\n",
    "        I = 0\n",
    "        N = 0\n",
    "        t = 0\n",
    "        t_l = 240\n",
    "        t_ss = 999\n",
    "        t_sf = 999\n",
    "        t_nc = np.random.exponential((1/AVG_ARRIVALS_HR)*60)\n",
    "        j = 0\n",
    "        Q = []\n",
    "        cost = 0\n",
    "        wait_times = []\n",
    "        while t < t_l:\n",
    "            t = min(t_l, t_ss, t_sf, t_nc)\n",
    "            #print(t)\n",
    "            if t == t_nc:\n",
    "                j = j + 1\n",
    "                t_j = copy.deepcopy(t)\n",
    "                #print('New customer in line at time:', t_j)\n",
    "                tour = get_tsp_trip([city_rand() for i in range(0, random.randint(1,4))])\n",
    "                #print(tour)\n",
    "                Q.append((t_j, tour))\n",
    "                if N == 0:\n",
    "                    t_ss = t\n",
    "                else:\n",
    "                    I = I + 1\n",
    "                t_nc = t + np.random.exponential((1/AVG_ARRIVALS_HR)*60)\n",
    "                #print('Next Group arriving at:', t_nc)\n",
    "                continue\n",
    "            elif t == t_ss:\n",
    "                q = Q.pop(0)\n",
    "                #print('Servicing Customer that came at:', q[0])\n",
    "                cost += q[1][0]*COST_PER_MILE\n",
    "                wait_times.append(t - q[0])\n",
    "                N = 1\n",
    "                I = max(0, I - 1)\n",
    "                t_sf = t + (q[1][0]/AVG_MILES_HR)*60 + AVG_STOP_TIME\n",
    "                #print('Back in Hanover at:', t_sf)\n",
    "                t_ss = 999\n",
    "                continue\n",
    "            elif t == t_sf:\n",
    "                #print('Back in Hanover')\n",
    "                if I > 0:\n",
    "                    t_ss = t\n",
    "                    #print('Start of Next Service:', t_ss)\n",
    "                N = 0 \n",
    "                t_sf = 999\n",
    "            else:\n",
    "                break\n",
    "        results.append([cost, wait_times])\n",
    "    return results"
   ]
  },
  {
   "cell_type": "code",
   "execution_count": 16,
   "metadata": {},
   "outputs": [],
   "source": [
    "results = simulation(10000)"
   ]
  },
  {
   "cell_type": "code",
   "execution_count": 17,
   "metadata": {},
   "outputs": [
    {
     "data": {
      "text/plain": [
       "0.3"
      ]
     },
     "execution_count": 17,
     "metadata": {},
     "output_type": "execute_result"
    }
   ],
   "source": [
    "DEPRECIATION"
   ]
  },
  {
   "cell_type": "code",
   "execution_count": 28,
   "metadata": {},
   "outputs": [
    {
     "data": {
      "text/plain": [
       "array([0.5       , 0.82142857, 1.14285714, 1.46428571, 1.78571429,\n",
       "       2.10714286, 2.42857143, 2.75      , 3.07142857, 3.39285714,\n",
       "       3.71428571, 4.03571429, 4.35714286, 4.67857143, 5.        ])"
      ]
     },
     "execution_count": 28,
     "metadata": {},
     "output_type": "execute_result"
    }
   ],
   "source": [
    "lambas = np.linspace(.5, 5, 15)\n",
    "lambas"
   ]
  },
  {
   "cell_type": "code",
   "execution_count": 123,
   "metadata": {},
   "outputs": [
    {
     "name": "stderr",
     "output_type": "stream",
     "text": [
      "/home/yakaboskic/.local/lib/python3.6/site-packages/numpy/lib/function_base.py:356: RuntimeWarning: Mean of empty slice.\n",
      "  avg = a.mean(axis)\n",
      "/home/yakaboskic/.local/lib/python3.6/site-packages/numpy/core/_methods.py:85: RuntimeWarning: invalid value encountered in double_scalars\n",
      "  ret = ret.dtype.type(ret / rcount)\n"
     ]
    }
   ],
   "source": [
    "lambdas = np.linspace(.5, 5, 15)\n",
    "r = []\n",
    "for lamb in lambdas:\n",
    "    lamb = lamb/2\n",
    "    AVG_ARRIVALS_HR = lamb\n",
    "    results = simulation(10000)\n",
    "    avg_cost = np.average([entry[0] for entry in results])\n",
    "    avg_waitTime = np.average([np.average(entry[1]) for entry in results])\n",
    "    avg_served = np.average([len(entry[1]) for entry in results])\n",
    "    r.append([lamb, avg_cost, avg_waitTime, avg_served*2, avg_cost*avg_served])    "
   ]
  },
  {
   "cell_type": "code",
   "execution_count": 124,
   "metadata": {},
   "outputs": [
    {
     "data": {
      "text/plain": [
       "array([0.5       , 0.82142857, 1.14285714, 1.46428571, 1.78571429,\n",
       "       2.10714286, 2.42857143, 2.75      , 3.07142857, 3.39285714,\n",
       "       3.71428571, 4.03571429, 4.35714286, 4.67857143, 5.        ])"
      ]
     },
     "execution_count": 124,
     "metadata": {},
     "output_type": "execute_result"
    }
   ],
   "source": [
    "lambdas"
   ]
  },
  {
   "cell_type": "code",
   "execution_count": 125,
   "metadata": {},
   "outputs": [
    {
     "data": {
      "text/html": [
       "<div>\n",
       "<style scoped>\n",
       "    .dataframe tbody tr th:only-of-type {\n",
       "        vertical-align: middle;\n",
       "    }\n",
       "\n",
       "    .dataframe tbody tr th {\n",
       "        vertical-align: top;\n",
       "    }\n",
       "\n",
       "    .dataframe thead th {\n",
       "        text-align: right;\n",
       "    }\n",
       "</style>\n",
       "<table border=\"1\" class=\"dataframe\">\n",
       "  <thead>\n",
       "    <tr style=\"text-align: right;\">\n",
       "      <th></th>\n",
       "      <th>lambda (Groups per hour)</th>\n",
       "      <th>Average Cost Per Trip</th>\n",
       "      <th>Average Wait Time</th>\n",
       "      <th>Average Customers Served</th>\n",
       "      <th>Average Cost Per Night</th>\n",
       "    </tr>\n",
       "  </thead>\n",
       "  <tbody>\n",
       "    <tr>\n",
       "      <th>0</th>\n",
       "      <td>0.250000</td>\n",
       "      <td>6.482725</td>\n",
       "      <td>0.0</td>\n",
       "      <td>1.9778</td>\n",
       "      <td>6.410767</td>\n",
       "    </tr>\n",
       "    <tr>\n",
       "      <th>1</th>\n",
       "      <td>0.410714</td>\n",
       "      <td>10.498665</td>\n",
       "      <td>0.0</td>\n",
       "      <td>3.1806</td>\n",
       "      <td>16.696027</td>\n",
       "    </tr>\n",
       "    <tr>\n",
       "      <th>2</th>\n",
       "      <td>0.571429</td>\n",
       "      <td>14.070420</td>\n",
       "      <td>0.0</td>\n",
       "      <td>4.2846</td>\n",
       "      <td>30.143061</td>\n",
       "    </tr>\n",
       "    <tr>\n",
       "      <th>3</th>\n",
       "      <td>0.732143</td>\n",
       "      <td>17.797905</td>\n",
       "      <td>0.0</td>\n",
       "      <td>5.4110</td>\n",
       "      <td>48.152232</td>\n",
       "    </tr>\n",
       "    <tr>\n",
       "      <th>4</th>\n",
       "      <td>0.892857</td>\n",
       "      <td>20.892680</td>\n",
       "      <td>0.0</td>\n",
       "      <td>6.3658</td>\n",
       "      <td>66.499311</td>\n",
       "    </tr>\n",
       "  </tbody>\n",
       "</table>\n",
       "</div>"
      ],
      "text/plain": [
       "   lambda (Groups per hour)  Average Cost Per Trip  Average Wait Time  \\\n",
       "0                  0.250000               6.482725                0.0   \n",
       "1                  0.410714              10.498665                0.0   \n",
       "2                  0.571429              14.070420                0.0   \n",
       "3                  0.732143              17.797905                0.0   \n",
       "4                  0.892857              20.892680                0.0   \n",
       "\n",
       "   Average Customers Served  Average Cost Per Night  \n",
       "0                    1.9778                6.410767  \n",
       "1                    3.1806               16.696027  \n",
       "2                    4.2846               30.143061  \n",
       "3                    5.4110               48.152232  \n",
       "4                    6.3658               66.499311  "
      ]
     },
     "execution_count": 125,
     "metadata": {},
     "output_type": "execute_result"
    }
   ],
   "source": [
    "data = pd.DataFrame(r)\n",
    "data = data.fillna(0)\n",
    "data.columns = ['lambda (Groups per hour)', 'Average Cost Per Trip', \n",
    "                'Average Wait Time', 'Average Customers Served', 'Average Cost Per Night']\n",
    "data.head()"
   ]
  },
  {
   "cell_type": "code",
   "execution_count": 126,
   "metadata": {},
   "outputs": [
    {
     "data": {
      "text/plain": [
       "Text(0, 0.5, 'Cost ($)')"
      ]
     },
     "execution_count": 126,
     "metadata": {},
     "output_type": "execute_result"
    },
    {
     "data": {
      "image/png": "[encoded data removed]",
      "text/plain": [
       "<Figure size 432x288 with 1 Axes>"
      ]
     },
     "metadata": {
      "needs_background": "light"
     },
     "output_type": "display_data"
    }
   ],
   "source": [
    "ax = data.plot(x=0, y=1, kind='line', title='Lambda vs. Cost per trip')\n",
    "ax.set_ylabel('Cost ($)')"
   ]
  },
  {
   "cell_type": "code",
   "execution_count": 127,
   "metadata": {},
   "outputs": [
    {
     "data": {
      "text/plain": [
       "Text(0, 0.5, 'Time (min)')"
      ]
     },
     "execution_count": 127,
     "metadata": {},
     "output_type": "execute_result"
    },
    {
     "data": {
      "image/png": "[encoded data removed]",
      "text/plain": [
       "<Figure size 432x288 with 1 Axes>"
      ]
     },
     "metadata": {
      "needs_background": "light"
     },
     "output_type": "display_data"
    }
   ],
   "source": [
    "ax = data.plot(x=0, y=2, kind='line', title='Lambda vs. Wait Time')\n",
    "ax.set_ylabel('Time (min)')"
   ]
  },
  {
   "cell_type": "code",
   "execution_count": 128,
   "metadata": {},
   "outputs": [
    {
     "data": {
      "text/plain": [
       "Text(0, 0.5, 'Number of Groups')"
      ]
     },
     "execution_count": 128,
     "metadata": {},
     "output_type": "execute_result"
    },
    {
     "data": {
      "image/png": "[encoded data removed]",
      "text/plain": [
       "<Figure size 432x288 with 1 Axes>"
      ]
     },
     "metadata": {
      "needs_background": "light"
     },
     "output_type": "display_data"
    }
   ],
   "source": [
    "ax = data.plot(x=0, y=3, kind='line', title='Lambda vs. Number Customers Served')\n",
    "ax.set_ylabel('Number of Groups')"
   ]
  },
  {
   "cell_type": "code",
   "execution_count": 129,
   "metadata": {},
   "outputs": [
    {
     "name": "stderr",
     "output_type": "stream",
     "text": [
      "/home/yakaboskic/.local/lib/python3.6/site-packages/pandas/core/indexing.py:630: SettingWithCopyWarning: \n",
      "A value is trying to be set on a copy of a slice from a DataFrame.\n",
      "Try using .loc[row_indexer,col_indexer] = value instead\n",
      "\n",
      "See the caveats in the documentation: http://pandas.pydata.org/pandas-docs/stable/indexing.html#indexing-view-versus-copy\n",
      "  self.obj[item_labels[indexer[info_axis]]] = value\n"
     ]
    },
    {
     "data": {
      "text/plain": [
       "Text(0, 0.5, 'Cost ($)')"
      ]
     },
     "execution_count": 129,
     "metadata": {},
     "output_type": "execute_result"
    },
    {
     "data": {
      "image/png": "[encoded data removed]",
      "text/plain": [
       "<Figure size 432x288 with 1 Axes>"
      ]
     },
     "metadata": {
      "needs_background": "light"
     },
     "output_type": "display_data"
    }
   ],
   "source": [
    "van_cost = 30000\n",
    "hours_per_day = 4\n",
    "days = 2*52\n",
    "total_hours = hours_per_day*days\n",
    "salary = 10\n",
    "total_salary = salary*total_hours\n",
    "data_yearly = data.iloc[:,[0,-1]]\n",
    "data_yearly.iloc[:,1] = data_yearly.iloc[:,1]*days + total_salary %+ van_cost\n",
    "ax = data_yearly.plot(x=0, y=1, kind='line', title='Cost of First Year vs. Lambda')\n",
    "ax.set_ylabel('Cost ($)')"
   ]
  },
  {
   "cell_type": "code",
   "execution_count": 83,
   "metadata": {},
   "outputs": [
    {
     "data": {
      "text/plain": [
       "2496"
      ]
     },
     "execution_count": 83,
     "metadata": {},
     "output_type": "execute_result"
    }
   ],
   "source": [
    "24*52*2"
   ]
  },
  {
   "cell_type": "code",
   "execution_count": 84,
   "metadata": {},
   "outputs": [
    {
     "data": {
      "text/html": [
       "<div>\n",
       "<style scoped>\n",
       "    .dataframe tbody tr th:only-of-type {\n",
       "        vertical-align: middle;\n",
       "    }\n",
       "\n",
       "    .dataframe tbody tr th {\n",
       "        vertical-align: top;\n",
       "    }\n",
       "\n",
       "    .dataframe thead th {\n",
       "        text-align: right;\n",
       "    }\n",
       "</style>\n",
       "<table border=\"1\" class=\"dataframe\">\n",
       "  <thead>\n",
       "    <tr style=\"text-align: right;\">\n",
       "      <th></th>\n",
       "      <th>lambda (Groups per hour)</th>\n",
       "      <th>Average Cost Per Night</th>\n",
       "    </tr>\n",
       "  </thead>\n",
       "  <tbody>\n",
       "    <tr>\n",
       "      <th>0</th>\n",
       "      <td>0.250000</td>\n",
       "      <td>4842.820549</td>\n",
       "    </tr>\n",
       "    <tr>\n",
       "      <th>1</th>\n",
       "      <td>0.410714</td>\n",
       "      <td>5989.259671</td>\n",
       "    </tr>\n",
       "    <tr>\n",
       "      <th>2</th>\n",
       "      <td>0.571429</td>\n",
       "      <td>7571.342371</td>\n",
       "    </tr>\n",
       "    <tr>\n",
       "      <th>3</th>\n",
       "      <td>0.732143</td>\n",
       "      <td>9123.890714</td>\n",
       "    </tr>\n",
       "    <tr>\n",
       "      <th>4</th>\n",
       "      <td>0.892857</td>\n",
       "      <td>10964.664838</td>\n",
       "    </tr>\n",
       "  </tbody>\n",
       "</table>\n",
       "</div>"
      ],
      "text/plain": [
       "   lambda (Groups per hour)  Average Cost Per Night\n",
       "0                  0.250000             4842.820549\n",
       "1                  0.410714             5989.259671\n",
       "2                  0.571429             7571.342371\n",
       "3                  0.732143             9123.890714\n",
       "4                  0.892857            10964.664838"
      ]
     },
     "execution_count": 84,
     "metadata": {},
     "output_type": "execute_result"
    }
   ],
   "source": [
    "data_yearly.head()"
   ]
  },
  {
   "cell_type": "code",
   "execution_count": 85,
   "metadata": {},
   "outputs": [
    {
     "name": "stderr",
     "output_type": "stream",
     "text": [
      "/home/yakaboskic/.local/lib/python3.6/site-packages/ipykernel_launcher.py:1: SettingWithCopyWarning: \n",
      "A value is trying to be set on a copy of a slice from a DataFrame.\n",
      "Try using .loc[row_indexer,col_indexer] = value instead\n",
      "\n",
      "See the caveats in the documentation: http://pandas.pydata.org/pandas-docs/stable/indexing.html#indexing-view-versus-copy\n",
      "  \"\"\"Entry point for launching an IPython kernel.\n",
      "/home/yakaboskic/.local/lib/python3.6/site-packages/ipykernel_launcher.py:2: SettingWithCopyWarning: \n",
      "A value is trying to be set on a copy of a slice from a DataFrame.\n",
      "Try using .loc[row_indexer,col_indexer] = value instead\n",
      "\n",
      "See the caveats in the documentation: http://pandas.pydata.org/pandas-docs/stable/indexing.html#indexing-view-versus-copy\n",
      "  \n"
     ]
    }
   ],
   "source": [
    "data_yearly['lamba_actual'] = data_yearly['lambda (Groups per hour)']*2\n",
    "data_yearly['Cost per Student'] = data_yearly.iloc[:,1]/(data['Average Customers Served']*2*52*2)"
   ]
  },
  {
   "cell_type": "code",
   "execution_count": 86,
   "metadata": {},
   "outputs": [
    {
     "data": {
      "text/html": [
       "<div>\n",
       "<style scoped>\n",
       "    .dataframe tbody tr th:only-of-type {\n",
       "        vertical-align: middle;\n",
       "    }\n",
       "\n",
       "    .dataframe tbody tr th {\n",
       "        vertical-align: top;\n",
       "    }\n",
       "\n",
       "    .dataframe thead th {\n",
       "        text-align: right;\n",
       "    }\n",
       "</style>\n",
       "<table border=\"1\" class=\"dataframe\">\n",
       "  <thead>\n",
       "    <tr style=\"text-align: right;\">\n",
       "      <th></th>\n",
       "      <th>lambda (Groups per hour)</th>\n",
       "      <th>Average Cost Per Night</th>\n",
       "      <th>lamba_actual</th>\n",
       "      <th>Cost per Student</th>\n",
       "    </tr>\n",
       "  </thead>\n",
       "  <tbody>\n",
       "    <tr>\n",
       "      <th>0</th>\n",
       "      <td>0.250000</td>\n",
       "      <td>4842.820549</td>\n",
       "      <td>0.500000</td>\n",
       "      <td>11.688148</td>\n",
       "    </tr>\n",
       "    <tr>\n",
       "      <th>1</th>\n",
       "      <td>0.410714</td>\n",
       "      <td>5989.259671</td>\n",
       "      <td>0.821429</td>\n",
       "      <td>8.898182</td>\n",
       "    </tr>\n",
       "    <tr>\n",
       "      <th>2</th>\n",
       "      <td>0.571429</td>\n",
       "      <td>7571.342371</td>\n",
       "      <td>1.142857</td>\n",
       "      <td>8.202047</td>\n",
       "    </tr>\n",
       "    <tr>\n",
       "      <th>3</th>\n",
       "      <td>0.732143</td>\n",
       "      <td>9123.890714</td>\n",
       "      <td>1.464286</td>\n",
       "      <td>8.162423</td>\n",
       "    </tr>\n",
       "    <tr>\n",
       "      <th>4</th>\n",
       "      <td>0.892857</td>\n",
       "      <td>10964.664838</td>\n",
       "      <td>1.785714</td>\n",
       "      <td>8.383387</td>\n",
       "    </tr>\n",
       "    <tr>\n",
       "      <th>5</th>\n",
       "      <td>1.053571</td>\n",
       "      <td>13088.656776</td>\n",
       "      <td>2.107143</td>\n",
       "      <td>8.766541</td>\n",
       "    </tr>\n",
       "    <tr>\n",
       "      <th>6</th>\n",
       "      <td>1.214286</td>\n",
       "      <td>15147.537600</td>\n",
       "      <td>2.428571</td>\n",
       "      <td>9.103087</td>\n",
       "    </tr>\n",
       "    <tr>\n",
       "      <th>7</th>\n",
       "      <td>1.375000</td>\n",
       "      <td>16630.566940</td>\n",
       "      <td>2.750000</td>\n",
       "      <td>9.329597</td>\n",
       "    </tr>\n",
       "    <tr>\n",
       "      <th>8</th>\n",
       "      <td>1.535714</td>\n",
       "      <td>18921.728218</td>\n",
       "      <td>3.071429</td>\n",
       "      <td>9.785913</td>\n",
       "    </tr>\n",
       "    <tr>\n",
       "      <th>9</th>\n",
       "      <td>1.696429</td>\n",
       "      <td>20354.142765</td>\n",
       "      <td>3.392857</td>\n",
       "      <td>10.013964</td>\n",
       "    </tr>\n",
       "    <tr>\n",
       "      <th>10</th>\n",
       "      <td>1.857143</td>\n",
       "      <td>21765.185354</td>\n",
       "      <td>3.714286</td>\n",
       "      <td>10.297217</td>\n",
       "    </tr>\n",
       "    <tr>\n",
       "      <th>11</th>\n",
       "      <td>2.017857</td>\n",
       "      <td>22777.526065</td>\n",
       "      <td>4.035714</td>\n",
       "      <td>10.453163</td>\n",
       "    </tr>\n",
       "    <tr>\n",
       "      <th>12</th>\n",
       "      <td>2.178571</td>\n",
       "      <td>24317.071776</td>\n",
       "      <td>4.357143</td>\n",
       "      <td>10.763119</td>\n",
       "    </tr>\n",
       "    <tr>\n",
       "      <th>13</th>\n",
       "      <td>2.339286</td>\n",
       "      <td>24676.822690</td>\n",
       "      <td>4.678571</td>\n",
       "      <td>10.934430</td>\n",
       "    </tr>\n",
       "    <tr>\n",
       "      <th>14</th>\n",
       "      <td>2.500000</td>\n",
       "      <td>25750.470210</td>\n",
       "      <td>5.000000</td>\n",
       "      <td>11.047683</td>\n",
       "    </tr>\n",
       "  </tbody>\n",
       "</table>\n",
       "</div>"
      ],
      "text/plain": [
       "    lambda (Groups per hour)  Average Cost Per Night  lamba_actual  \\\n",
       "0                   0.250000             4842.820549      0.500000   \n",
       "1                   0.410714             5989.259671      0.821429   \n",
       "2                   0.571429             7571.342371      1.142857   \n",
       "3                   0.732143             9123.890714      1.464286   \n",
       "4                   0.892857            10964.664838      1.785714   \n",
       "5                   1.053571            13088.656776      2.107143   \n",
       "6                   1.214286            15147.537600      2.428571   \n",
       "7                   1.375000            16630.566940      2.750000   \n",
       "8                   1.535714            18921.728218      3.071429   \n",
       "9                   1.696429            20354.142765      3.392857   \n",
       "10                  1.857143            21765.185354      3.714286   \n",
       "11                  2.017857            22777.526065      4.035714   \n",
       "12                  2.178571            24317.071776      4.357143   \n",
       "13                  2.339286            24676.822690      4.678571   \n",
       "14                  2.500000            25750.470210      5.000000   \n",
       "\n",
       "    Cost per Student  \n",
       "0          11.688148  \n",
       "1           8.898182  \n",
       "2           8.202047  \n",
       "3           8.162423  \n",
       "4           8.383387  \n",
       "5           8.766541  \n",
       "6           9.103087  \n",
       "7           9.329597  \n",
       "8           9.785913  \n",
       "9          10.013964  \n",
       "10         10.297217  \n",
       "11         10.453163  \n",
       "12         10.763119  \n",
       "13         10.934430  \n",
       "14         11.047683  "
      ]
     },
     "execution_count": 86,
     "metadata": {},
     "output_type": "execute_result"
    }
   ],
   "source": [
    "data_yearly"
   ]
  },
  {
   "cell_type": "code",
   "execution_count": 113,
   "metadata": {},
   "outputs": [
    {
     "data": {
      "text/plain": [
       "new index\n",
       "14     6.979932\n",
       "13     7.253436\n",
       "12     7.567088\n",
       "11     7.930427\n",
       "10     8.364961\n",
       "9      8.879637\n",
       "8      9.494590\n",
       "7     10.252659\n",
       "6     11.244395\n",
       "5     12.458605\n",
       "4     14.215887\n",
       "3     16.678562\n",
       "2     20.523791\n",
       "1     27.370176\n",
       "0     42.979932\n",
       "Name: T=2 $/student, dtype: float64"
      ]
     },
     "execution_count": 113,
     "metadata": {},
     "output_type": "execute_result"
    }
   ],
   "source": [
    "df_taxi = pd.read_csv('/mnt/c/Users/c_yak/OneDrive/Pictures/Dartmouth/engs103/cost_taxi.csv')\n",
    "df_bus = pd.read_csv('/home/yakaboskic/courses/engs103Project/bus/cost_bus.csv')\n",
    "\n",
    "df_taxi['new index'] = [14-i for i in range(0,15)]\n",
    "df_taxi = df_taxi.set_index('new index')\n",
    "df_taxi['T=2 $/student']"
   ]
  },
  {
   "cell_type": "code",
   "execution_count": 116,
   "metadata": {},
   "outputs": [],
   "source": [
    "df_total = pd.concat([data_yearly['lamba_actual'], \n",
    "           data_yearly['Cost per Student'], \n",
    "          df_bus['Cost per student served'],\n",
    "          df_taxi['T=2 $/student'],\n",
    "          df_taxi['T=1 $/student']], axis=1)\n",
    "df_total.columns = ['Lambda', 'Van', 'Bus', 'T2', 'T1']"
   ]
  },
  {
   "cell_type": "code",
   "execution_count": 122,
   "metadata": {},
   "outputs": [
    {
     "data": {
      "text/plain": [
       "Text(0, 0.5, 'Cost per Student ($)')"
      ]
     },
     "execution_count": 122,
     "metadata": {},
     "output_type": "execute_result"
    },
    {
     "data": {
      "image/png": "[encoded data removed]",
      "text/plain": [
       "<Figure size 432x288 with 1 Axes>"
      ]
     },
     "metadata": {
      "needs_background": "light"
     },
     "output_type": "display_data"
    }
   ],
   "source": [
    "ax = df_total.plot(x=0, y=[1,2,3,4], kind='line', title='Cost per Student Serviced',logy=False)\n",
    "ax.set_ylabel('Cost per Student ($)')"
   ]
  },
  {
   "cell_type": "code",
   "execution_count": 118,
   "metadata": {},
   "outputs": [
    {
     "data": {
      "text/html": [
       "<div>\n",
       "<style scoped>\n",
       "    .dataframe tbody tr th:only-of-type {\n",
       "        vertical-align: middle;\n",
       "    }\n",
       "\n",
       "    .dataframe tbody tr th {\n",
       "        vertical-align: top;\n",
       "    }\n",
       "\n",
       "    .dataframe thead th {\n",
       "        text-align: right;\n",
       "    }\n",
       "</style>\n",
       "<table border=\"1\" class=\"dataframe\">\n",
       "  <thead>\n",
       "    <tr style=\"text-align: right;\">\n",
       "      <th></th>\n",
       "      <th>Lambda</th>\n",
       "      <th>Van</th>\n",
       "      <th>Bus</th>\n",
       "      <th>T2</th>\n",
       "      <th>T1</th>\n",
       "    </tr>\n",
       "  </thead>\n",
       "  <tbody>\n",
       "    <tr>\n",
       "      <th>0</th>\n",
       "      <td>0.500000</td>\n",
       "      <td>11.688148</td>\n",
       "      <td>80.000000</td>\n",
       "      <td>42.979932</td>\n",
       "      <td>22.509349</td>\n",
       "    </tr>\n",
       "    <tr>\n",
       "      <th>1</th>\n",
       "      <td>0.821429</td>\n",
       "      <td>8.898182</td>\n",
       "      <td>48.695652</td>\n",
       "      <td>27.370176</td>\n",
       "      <td>14.704470</td>\n",
       "    </tr>\n",
       "    <tr>\n",
       "      <th>2</th>\n",
       "      <td>1.142857</td>\n",
       "      <td>8.202047</td>\n",
       "      <td>35.000000</td>\n",
       "      <td>20.523791</td>\n",
       "      <td>11.281278</td>\n",
       "    </tr>\n",
       "    <tr>\n",
       "      <th>3</th>\n",
       "      <td>1.464286</td>\n",
       "      <td>8.162423</td>\n",
       "      <td>27.317073</td>\n",
       "      <td>16.678562</td>\n",
       "      <td>9.358664</td>\n",
       "    </tr>\n",
       "    <tr>\n",
       "      <th>4</th>\n",
       "      <td>1.785714</td>\n",
       "      <td>8.383387</td>\n",
       "      <td>22.400000</td>\n",
       "      <td>14.215887</td>\n",
       "      <td>8.127326</td>\n",
       "    </tr>\n",
       "    <tr>\n",
       "      <th>5</th>\n",
       "      <td>2.107143</td>\n",
       "      <td>8.766541</td>\n",
       "      <td>18.983051</td>\n",
       "      <td>12.458605</td>\n",
       "      <td>7.248685</td>\n",
       "    </tr>\n",
       "    <tr>\n",
       "      <th>6</th>\n",
       "      <td>2.428571</td>\n",
       "      <td>9.103087</td>\n",
       "      <td>16.470588</td>\n",
       "      <td>11.244395</td>\n",
       "      <td>6.641580</td>\n",
       "    </tr>\n",
       "    <tr>\n",
       "      <th>7</th>\n",
       "      <td>2.750000</td>\n",
       "      <td>9.329597</td>\n",
       "      <td>14.545455</td>\n",
       "      <td>10.252659</td>\n",
       "      <td>6.145712</td>\n",
       "    </tr>\n",
       "    <tr>\n",
       "      <th>8</th>\n",
       "      <td>3.071429</td>\n",
       "      <td>9.785913</td>\n",
       "      <td>13.023256</td>\n",
       "      <td>9.494590</td>\n",
       "      <td>5.766678</td>\n",
       "    </tr>\n",
       "    <tr>\n",
       "      <th>9</th>\n",
       "      <td>3.392857</td>\n",
       "      <td>10.013964</td>\n",
       "      <td>11.789474</td>\n",
       "      <td>8.879637</td>\n",
       "      <td>5.459201</td>\n",
       "    </tr>\n",
       "    <tr>\n",
       "      <th>10</th>\n",
       "      <td>3.714286</td>\n",
       "      <td>10.297217</td>\n",
       "      <td>10.769231</td>\n",
       "      <td>8.364961</td>\n",
       "      <td>5.201863</td>\n",
       "    </tr>\n",
       "    <tr>\n",
       "      <th>11</th>\n",
       "      <td>4.035714</td>\n",
       "      <td>10.453163</td>\n",
       "      <td>9.911504</td>\n",
       "      <td>7.930427</td>\n",
       "      <td>4.984596</td>\n",
       "    </tr>\n",
       "    <tr>\n",
       "      <th>12</th>\n",
       "      <td>4.357143</td>\n",
       "      <td>10.763119</td>\n",
       "      <td>9.180328</td>\n",
       "      <td>7.567088</td>\n",
       "      <td>4.802927</td>\n",
       "    </tr>\n",
       "    <tr>\n",
       "      <th>13</th>\n",
       "      <td>4.678571</td>\n",
       "      <td>10.934430</td>\n",
       "      <td>8.549618</td>\n",
       "      <td>7.253436</td>\n",
       "      <td>4.646101</td>\n",
       "    </tr>\n",
       "    <tr>\n",
       "      <th>14</th>\n",
       "      <td>5.000000</td>\n",
       "      <td>11.047683</td>\n",
       "      <td>8.000000</td>\n",
       "      <td>6.979932</td>\n",
       "      <td>4.509349</td>\n",
       "    </tr>\n",
       "  </tbody>\n",
       "</table>\n",
       "</div>"
      ],
      "text/plain": [
       "      Lambda        Van        Bus         T2         T1\n",
       "0   0.500000  11.688148  80.000000  42.979932  22.509349\n",
       "1   0.821429   8.898182  48.695652  27.370176  14.704470\n",
       "2   1.142857   8.202047  35.000000  20.523791  11.281278\n",
       "3   1.464286   8.162423  27.317073  16.678562   9.358664\n",
       "4   1.785714   8.383387  22.400000  14.215887   8.127326\n",
       "5   2.107143   8.766541  18.983051  12.458605   7.248685\n",
       "6   2.428571   9.103087  16.470588  11.244395   6.641580\n",
       "7   2.750000   9.329597  14.545455  10.252659   6.145712\n",
       "8   3.071429   9.785913  13.023256   9.494590   5.766678\n",
       "9   3.392857  10.013964  11.789474   8.879637   5.459201\n",
       "10  3.714286  10.297217  10.769231   8.364961   5.201863\n",
       "11  4.035714  10.453163   9.911504   7.930427   4.984596\n",
       "12  4.357143  10.763119   9.180328   7.567088   4.802927\n",
       "13  4.678571  10.934430   8.549618   7.253436   4.646101\n",
       "14  5.000000  11.047683   8.000000   6.979932   4.509349"
      ]
     },
     "execution_count": 118,
     "metadata": {},
     "output_type": "execute_result"
    }
   ],
   "source": [
    "df_total"
   ]
  },
  {
   "cell_type": "code",
   "execution_count": null,
   "metadata": {},
   "outputs": [],
   "source": []
  }
 ],
 "metadata": {
  "kernelspec": {
   "display_name": "Python 3.6",
   "language": "python",
   "name": "python3.6"
  },
  "language_info": {
   "codemirror_mode": {
    "name": "ipython",
    "version": 3
   },
   "file_extension": ".py",
   "mimetype": "text/x-python",
   "name": "python",
   "nbconvert_exporter": "python",
   "pygments_lexer": "ipython3",
   "version": "3.6.7"
  }
 },
 "nbformat": 4,
 "nbformat_minor": 2
}
