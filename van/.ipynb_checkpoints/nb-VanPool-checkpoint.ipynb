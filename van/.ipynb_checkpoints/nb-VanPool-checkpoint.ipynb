{
 "cells": [
  {
   "cell_type": "code",
   "execution_count": 112,
   "metadata": {},
   "outputs": [],
   "source": [
    "import sys\n",
    "import os \n",
    "import numpy as np\n",
    "import pandas as pd\n",
    "import seaborn as sb\n",
    "import random\n",
    "import itertools"
   ]
  },
  {
   "cell_type": "code",
   "execution_count": 71,
   "metadata": {},
   "outputs": [
    {
     "data": {
      "text/html": [
       "<div>\n",
       "<style scoped>\n",
       "    .dataframe tbody tr th:only-of-type {\n",
       "        vertical-align: middle;\n",
       "    }\n",
       "\n",
       "    .dataframe tbody tr th {\n",
       "        vertical-align: top;\n",
       "    }\n",
       "\n",
       "    .dataframe thead th {\n",
       "        text-align: right;\n",
       "    }\n",
       "</style>\n",
       "<table border=\"1\" class=\"dataframe\">\n",
       "  <thead>\n",
       "    <tr style=\"text-align: right;\">\n",
       "      <th></th>\n",
       "      <th>LO Street1</th>\n",
       "      <th>LO City</th>\n",
       "      <th>LO State</th>\n",
       "      <th>LO Zip</th>\n",
       "    </tr>\n",
       "  </thead>\n",
       "  <tbody>\n",
       "    <tr>\n",
       "      <th>0</th>\n",
       "      <td>705 Canaan St.</td>\n",
       "      <td>Canaan</td>\n",
       "      <td>NH</td>\n",
       "      <td>03741</td>\n",
       "    </tr>\n",
       "    <tr>\n",
       "      <th>1</th>\n",
       "      <td>392 Jones Hill Road</td>\n",
       "      <td>Canaan</td>\n",
       "      <td>NH</td>\n",
       "      <td>03741</td>\n",
       "    </tr>\n",
       "    <tr>\n",
       "      <th>2</th>\n",
       "      <td>9 Roberts Rd. #202</td>\n",
       "      <td>Canaan</td>\n",
       "      <td>NH</td>\n",
       "      <td>03741</td>\n",
       "    </tr>\n",
       "    <tr>\n",
       "      <th>3</th>\n",
       "      <td>161 Smith Pond Road</td>\n",
       "      <td>Enfield</td>\n",
       "      <td>NH</td>\n",
       "      <td>03748</td>\n",
       "    </tr>\n",
       "    <tr>\n",
       "      <th>4</th>\n",
       "      <td>153 Shaker Hill Road #1</td>\n",
       "      <td>Enfield</td>\n",
       "      <td>NH</td>\n",
       "      <td>03748</td>\n",
       "    </tr>\n",
       "  </tbody>\n",
       "</table>\n",
       "</div>"
      ],
      "text/plain": [
       "                LO Street1  LO City LO State LO Zip\n",
       "0           705 Canaan St.   Canaan       NH  03741\n",
       "1      392 Jones Hill Road   Canaan       NH  03741\n",
       "2       9 Roberts Rd. #202   Canaan       NH  03741\n",
       "3      161 Smith Pond Road  Enfield       NH  03748\n",
       "4  153 Shaker Hill Road #1  Enfield       NH  03748"
      ]
     },
     "execution_count": 71,
     "metadata": {},
     "output_type": "execute_result"
    }
   ],
   "source": [
    "df_data = pd.read_csv('/home/yakaboskic/courses/engs103Project/data/dart-grad-data-clean.csv')\n",
    "df_data = df_data.dropna()\n",
    "df_data.head()"
   ]
  },
  {
   "cell_type": "code",
   "execution_count": 72,
   "metadata": {},
   "outputs": [],
   "source": [
    "df_data['LO City'].unique()\n",
    "sachem_roads = ['Sachem', 'Drake', 'Gould', 'Haddock', 'Ralston']"
   ]
  },
  {
   "cell_type": "code",
   "execution_count": 73,
   "metadata": {},
   "outputs": [],
   "source": [
    "city = df_data['LO City']\n",
    "street = df_data['LO Street1']\n",
    "h1 = ~city.str.contains('HANOVER')\n",
    "h2 = ~city.str.contains('hanover')\n",
    "h3 = ~city.str.contains('Hanvoer')\n",
    "leb1 = ~city.str.contains('LEBANON')\n",
    "wleb1 = ~city.str.contains('West Labanon')\n",
    "wleb2 = ~city.str.contains('West Leb')\n",
    "wleb3 = ~city.str.contains('WEST LEBANNON')\n",
    "wleb4 = ~city.str.contains('West lebanon')\n",
    "wleb5 = ~city.str.contains('west lebanon')\n",
    "wrj1 = ~city.str.contains('White River Jct')\n",
    "wrj2 = ~city.str.contains('white river junction')\n",
    "sachem = ~street.str.contains('|'.join(sachem_roads))"
   ]
  },
  {
   "cell_type": "code",
   "execution_count": 74,
   "metadata": {},
   "outputs": [],
   "source": [
    "df_data['LO City'] = df_data['LO City'].where(h1, 'Hanover')\n",
    "df_data['LO City'] = df_data['LO City'].where(h2, 'Hanover')\n",
    "df_data['LO City'] = df_data['LO City'].where(h3, 'Hanover')\n",
    "df_data['LO City'] = df_data['LO City'].where(leb1, 'Lebanon')\n",
    "df_data['LO City'] = df_data['LO City'].where(wleb1, 'West Lebanon')\n",
    "df_data['LO City'] = df_data['LO City'].where(wleb2, 'West Lebanon')\n",
    "df_data['LO City'] = df_data['LO City'].where(wleb3, 'West Lebanon')\n",
    "df_data['LO City'] = df_data['LO City'].where(wleb4, 'West Lebanon')\n",
    "df_data['LO City'] = df_data['LO City'].where(wleb5, 'West Lebanon')\n",
    "df_data['LO City'] = df_data['LO City'].where(wrj1, 'White River Junction')\n",
    "df_data['LO City'] = df_data['LO City'].where(wrj2, 'White River Junction')\n",
    "df_data['LO City'] = df_data['LO City'].where(sachem, 'Sachem')"
   ]
  },
  {
   "cell_type": "code",
   "execution_count": 75,
   "metadata": {},
   "outputs": [
    {
     "data": {
      "text/plain": [
       "array(['Canaan', 'Enfield', 'Etna', 'Hanover', 'Sachem', 'Hartford',\n",
       "       'Hartland', 'Hoboken', 'Lebanon', 'Lyme', 'Norwich',\n",
       "       'West Lebanon', 'White River Junction'], dtype=object)"
      ]
     },
     "execution_count": 75,
     "metadata": {},
     "output_type": "execute_result"
    }
   ],
   "source": [
    "df_data['LO City'].unique()"
   ]
  },
  {
   "cell_type": "code",
   "execution_count": 82,
   "metadata": {},
   "outputs": [],
   "source": [
    "stops = ['Enfield', 'Sachem', 'Lebanon', 'Norwich', 'West Lebanon', 'White River Junction']"
   ]
  },
  {
   "cell_type": "code",
   "execution_count": 149,
   "metadata": {},
   "outputs": [],
   "source": [
    "df_stopOnly = df_data[df_data['LO City'].isin(stops)]\n",
    "df_stopOnly.to_csv('stop_data_cleaned.csv')"
   ]
  },
  {
   "cell_type": "code",
   "execution_count": 84,
   "metadata": {},
   "outputs": [
    {
     "data": {
      "text/plain": [
       "<matplotlib.axes._subplots.AxesSubplot at 0x7fa1c941f518>"
      ]
     },
     "execution_count": 84,
     "metadata": {},
     "output_type": "execute_result"
    },
    {
     "data": {
      "image/png": "[encoded data removed]",
      "text/plain": [
       "<Figure size 432x288 with 1 Axes>"
      ]
     },
     "metadata": {
      "needs_background": "light"
     },
     "output_type": "display_data"
    }
   ],
   "source": [
    "sb.countplot(x='LO City', data=df_stopOnly)"
   ]
  },
  {
   "cell_type": "code",
   "execution_count": 96,
   "metadata": {},
   "outputs": [
    {
     "data": {
      "text/plain": [
       "Lebanon                 0.341463\n",
       "Sachem                  0.250871\n",
       "West Lebanon            0.146341\n",
       "White River Junction    0.125436\n",
       "Norwich                 0.090592\n",
       "Enfield                 0.045296\n",
       "Name: LO City, dtype: float64"
      ]
     },
     "execution_count": 96,
     "metadata": {},
     "output_type": "execute_result"
    }
   ],
   "source": [
    "total = df_stopOnly['LO City'].count()\n",
    "stats = df_stopOnly['LO City'].value_counts()/total\n",
    "stats"
   ]
  },
  {
   "cell_type": "code",
   "execution_count": 97,
   "metadata": {},
   "outputs": [],
   "source": [
    "def city_rand():\n",
    "    rand = random.random()\n",
    "    start = 0\n",
    "    end = stats.Lebanon\n",
    "    if rand <= end:\n",
    "        return 'Lebanon'\n",
    "    start = end\n",
    "    end = start + stats.Sachem\n",
    "    if rand > start and rand <= end:\n",
    "        return 'Sachem'\n",
    "    start = end\n",
    "    end = start + stats['West Lebanon']\n",
    "    if rand > start and rand <= end:\n",
    "        return 'West Lebanon'\n",
    "    start = end\n",
    "    end = start + stats['White River Junction']\n",
    "    if rand > start and rand <= end:\n",
    "        return 'White River Junction'\n",
    "    start = end\n",
    "    end = start + stats.Norwich\n",
    "    if rand > start and rand <= end:\n",
    "        return 'Norwich'\n",
    "    start = end\n",
    "    end = start + stats['Enfield']\n",
    "    if rand > start and rand <= end:\n",
    "        return 'Enfield'\n",
    "    else:\n",
    "        return 'Issue'"
   ]
  },
  {
   "cell_type": "code",
   "execution_count": 124,
   "metadata": {},
   "outputs": [
    {
     "data": {
      "text/html": [
       "<div>\n",
       "<style scoped>\n",
       "    .dataframe tbody tr th:only-of-type {\n",
       "        vertical-align: middle;\n",
       "    }\n",
       "\n",
       "    .dataframe tbody tr th {\n",
       "        vertical-align: top;\n",
       "    }\n",
       "\n",
       "    .dataframe thead th {\n",
       "        text-align: right;\n",
       "    }\n",
       "</style>\n",
       "<table border=\"1\" class=\"dataframe\">\n",
       "  <thead>\n",
       "    <tr style=\"text-align: right;\">\n",
       "      <th></th>\n",
       "      <th>Hanover</th>\n",
       "      <th>Lebanon</th>\n",
       "      <th>West Lebanon</th>\n",
       "      <th>Norwich</th>\n",
       "      <th>White River Junction</th>\n",
       "      <th>Wilder</th>\n",
       "      <th>Sachem Village</th>\n",
       "      <th>Enfield</th>\n",
       "    </tr>\n",
       "    <tr>\n",
       "      <th>Unnamed: 0</th>\n",
       "      <th></th>\n",
       "      <th></th>\n",
       "      <th></th>\n",
       "      <th></th>\n",
       "      <th></th>\n",
       "      <th></th>\n",
       "      <th></th>\n",
       "      <th></th>\n",
       "    </tr>\n",
       "  </thead>\n",
       "  <tbody>\n",
       "    <tr>\n",
       "      <th>Hanover</th>\n",
       "      <td>0.0</td>\n",
       "      <td>5.7</td>\n",
       "      <td>4.3</td>\n",
       "      <td>1.6</td>\n",
       "      <td>4.5</td>\n",
       "      <td>4.0</td>\n",
       "      <td>1.6</td>\n",
       "      <td>10.8</td>\n",
       "    </tr>\n",
       "    <tr>\n",
       "      <th>Lebanon</th>\n",
       "      <td>5.7</td>\n",
       "      <td>0.0</td>\n",
       "      <td>3.6</td>\n",
       "      <td>7.5</td>\n",
       "      <td>4.5</td>\n",
       "      <td>5.9</td>\n",
       "      <td>7.0</td>\n",
       "      <td>6.7</td>\n",
       "    </tr>\n",
       "    <tr>\n",
       "      <th>West Lebanon</th>\n",
       "      <td>4.3</td>\n",
       "      <td>3.6</td>\n",
       "      <td>0.0</td>\n",
       "      <td>5.6</td>\n",
       "      <td>1.0</td>\n",
       "      <td>2.4</td>\n",
       "      <td>3.6</td>\n",
       "      <td>10.7</td>\n",
       "    </tr>\n",
       "    <tr>\n",
       "      <th>Norwich</th>\n",
       "      <td>1.6</td>\n",
       "      <td>7.5</td>\n",
       "      <td>5.6</td>\n",
       "      <td>0.0</td>\n",
       "      <td>5.2</td>\n",
       "      <td>3.5</td>\n",
       "      <td>3.2</td>\n",
       "      <td>12.8</td>\n",
       "    </tr>\n",
       "    <tr>\n",
       "      <th>White River Junction</th>\n",
       "      <td>4.5</td>\n",
       "      <td>4.5</td>\n",
       "      <td>1.0</td>\n",
       "      <td>5.2</td>\n",
       "      <td>0.0</td>\n",
       "      <td>1.9</td>\n",
       "      <td>3.8</td>\n",
       "      <td>11.5</td>\n",
       "    </tr>\n",
       "    <tr>\n",
       "      <th>Wilder</th>\n",
       "      <td>4.0</td>\n",
       "      <td>5.9</td>\n",
       "      <td>2.4</td>\n",
       "      <td>3.5</td>\n",
       "      <td>1.9</td>\n",
       "      <td>0.0</td>\n",
       "      <td>5.2</td>\n",
       "      <td>15.2</td>\n",
       "    </tr>\n",
       "    <tr>\n",
       "      <th>Sachem Village</th>\n",
       "      <td>1.6</td>\n",
       "      <td>7.0</td>\n",
       "      <td>3.6</td>\n",
       "      <td>3.2</td>\n",
       "      <td>3.8</td>\n",
       "      <td>5.2</td>\n",
       "      <td>0.0</td>\n",
       "      <td>12.3</td>\n",
       "    </tr>\n",
       "    <tr>\n",
       "      <th>Enfield</th>\n",
       "      <td>10.8</td>\n",
       "      <td>6.7</td>\n",
       "      <td>10.7</td>\n",
       "      <td>12.8</td>\n",
       "      <td>11.5</td>\n",
       "      <td>15.2</td>\n",
       "      <td>12.3</td>\n",
       "      <td>0.0</td>\n",
       "    </tr>\n",
       "  </tbody>\n",
       "</table>\n",
       "</div>"
      ],
      "text/plain": [
       "                      Hanover  Lebanon  West Lebanon  Norwich  \\\n",
       "Unnamed: 0                                                      \n",
       "Hanover                   0.0      5.7           4.3      1.6   \n",
       "Lebanon                   5.7      0.0           3.6      7.5   \n",
       "West Lebanon              4.3      3.6           0.0      5.6   \n",
       "Norwich                   1.6      7.5           5.6      0.0   \n",
       "White River Junction      4.5      4.5           1.0      5.2   \n",
       "Wilder                    4.0      5.9           2.4      3.5   \n",
       "Sachem Village            1.6      7.0           3.6      3.2   \n",
       "Enfield                  10.8      6.7          10.7     12.8   \n",
       "\n",
       "                      White River Junction  Wilder  Sachem Village  Enfield  \n",
       "Unnamed: 0                                                                   \n",
       "Hanover                                4.5     4.0             1.6     10.8  \n",
       "Lebanon                                4.5     5.9             7.0      6.7  \n",
       "West Lebanon                           1.0     2.4             3.6     10.7  \n",
       "Norwich                                5.2     3.5             3.2     12.8  \n",
       "White River Junction                   0.0     1.9             3.8     11.5  \n",
       "Wilder                                 1.9     0.0             5.2     15.2  \n",
       "Sachem Village                         3.8     5.2             0.0     12.3  \n",
       "Enfield                               11.5    15.2            12.3      0.0  "
      ]
     },
     "execution_count": 124,
     "metadata": {},
     "output_type": "execute_result"
    }
   ],
   "source": [
    "df_dist = pd.read_csv('/home/yakaboskic/courses/engs103Project/data/UpperValleyDists.csv')\n",
    "df_dist = df_dist.set_index('Unnamed: 0')\n",
    "df_dist = df_dist.fillna(0)\n",
    "df_dist"
   ]
  },
  {
   "cell_type": "code",
   "execution_count": 147,
   "metadata": {},
   "outputs": [],
   "source": [
    "def get_tsp_trip(stops):\n",
    "    start = 'Hanover'\n",
    "    end = 'Hanover'\n",
    "    distance_results = []\n",
    "    stops = set(stops)\n",
    "    for perm in itertools.permutations(stops, r=len(stops)):\n",
    "        tour = list(perm)\n",
    "        tour.insert(0, 'Hanover')\n",
    "        tour.append('Hanover')\n",
    "        distance = 0\n",
    "        start = 'Hanover'\n",
    "        for stop in tour:\n",
    "            distance = distance + df_dist.loc[start, stop]\n",
    "            start = stop\n",
    "        distance_results.append([distance, tour])\n",
    "    return sorted(distance_results)[0]"
   ]
  },
  {
   "cell_type": "code",
   "execution_count": 148,
   "metadata": {},
   "outputs": [
    {
     "data": {
      "text/plain": [
       "[29.1, ['Hanover', 'Enfield', 'White River Junction', 'Norwich', 'Hanover']]"
      ]
     },
     "execution_count": 148,
     "metadata": {},
     "output_type": "execute_result"
    }
   ],
   "source": [
    "get_tsp_trip(['White River Junction', 'Norwich',  'Enfield'])"
   ]
  },
  {
   "cell_type": "code",
   "execution_count": null,
   "metadata": {},
   "outputs": [],
   "source": []
  }
 ],
 "metadata": {
  "kernelspec": {
   "display_name": "Python 3.6",
   "language": "python",
   "name": "python3.6"
  },
  "language_info": {
   "codemirror_mode": {
    "name": "ipython",
    "version": 3
   },
   "file_extension": ".py",
   "mimetype": "text/x-python",
   "name": "python",
   "nbconvert_exporter": "python",
   "pygments_lexer": "ipython3",
   "version": "3.6.7"
  }
 },
 "nbformat": 4,
 "nbformat_minor": 2
}
